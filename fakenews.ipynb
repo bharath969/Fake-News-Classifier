{
 "cells": [
  {
   "cell_type": "markdown",
   "metadata": {},
   "source": [
    "https://www.kaggle.com/datasets/mrmorj/hate-speech-and-offensive-language-dataset?resource=download"
   ]
  },
  {
   "cell_type": "markdown",
   "metadata": {},
   "source": [
    "## Environment Setup"
   ]
  },
  {
   "cell_type": "code",
   "execution_count": 1,
   "metadata": {},
   "outputs": [],
   "source": [
    "import pandas as pd \n",
    "import numpy as np \n",
    "import matplotlib.pyplot as plt\n",
    "import seaborn as sns"
   ]
  },
  {
   "cell_type": "code",
   "execution_count": 2,
   "metadata": {},
   "outputs": [
    {
     "data": {
      "text/plain": [
       "'c:\\\\Studies\\\\projects_bkr\\\\learn\\\\GEN AI Udemey\\\\Master AI, Large Language Models & Agents\\\\hugging_face'"
      ]
     },
     "execution_count": 2,
     "metadata": {},
     "output_type": "execute_result"
    }
   ],
   "source": [
    "import os\n",
    "os.getcwd()"
   ]
  },
  {
   "cell_type": "markdown",
   "metadata": {},
   "source": [
    "## Create Dataframe form csv "
   ]
  },
  {
   "cell_type": "code",
   "execution_count": 3,
   "metadata": {},
   "outputs": [
    {
     "data": {
      "text/html": [
       "<div>\n",
       "<style scoped>\n",
       "    .dataframe tbody tr th:only-of-type {\n",
       "        vertical-align: middle;\n",
       "    }\n",
       "\n",
       "    .dataframe tbody tr th {\n",
       "        vertical-align: top;\n",
       "    }\n",
       "\n",
       "    .dataframe thead th {\n",
       "        text-align: right;\n",
       "    }\n",
       "</style>\n",
       "<table border=\"1\" class=\"dataframe\">\n",
       "  <thead>\n",
       "    <tr style=\"text-align: right;\">\n",
       "      <th></th>\n",
       "      <th>Unnamed: 0</th>\n",
       "      <th>count</th>\n",
       "      <th>hate_speech</th>\n",
       "      <th>offensive_language</th>\n",
       "      <th>neither</th>\n",
       "      <th>class</th>\n",
       "      <th>tweet</th>\n",
       "    </tr>\n",
       "  </thead>\n",
       "  <tbody>\n",
       "    <tr>\n",
       "      <th>0</th>\n",
       "      <td>0</td>\n",
       "      <td>3</td>\n",
       "      <td>0</td>\n",
       "      <td>0</td>\n",
       "      <td>3</td>\n",
       "      <td>2</td>\n",
       "      <td>!!! RT @mayasolovely: As a woman you shouldn't...</td>\n",
       "    </tr>\n",
       "    <tr>\n",
       "      <th>1</th>\n",
       "      <td>1</td>\n",
       "      <td>3</td>\n",
       "      <td>0</td>\n",
       "      <td>3</td>\n",
       "      <td>0</td>\n",
       "      <td>1</td>\n",
       "      <td>!!!!! RT @mleew17: boy dats cold...tyga dwn ba...</td>\n",
       "    </tr>\n",
       "    <tr>\n",
       "      <th>2</th>\n",
       "      <td>2</td>\n",
       "      <td>3</td>\n",
       "      <td>0</td>\n",
       "      <td>3</td>\n",
       "      <td>0</td>\n",
       "      <td>1</td>\n",
       "      <td>!!!!!!! RT @UrKindOfBrand Dawg!!!! RT @80sbaby...</td>\n",
       "    </tr>\n",
       "    <tr>\n",
       "      <th>3</th>\n",
       "      <td>3</td>\n",
       "      <td>3</td>\n",
       "      <td>0</td>\n",
       "      <td>2</td>\n",
       "      <td>1</td>\n",
       "      <td>1</td>\n",
       "      <td>!!!!!!!!! RT @C_G_Anderson: @viva_based she lo...</td>\n",
       "    </tr>\n",
       "    <tr>\n",
       "      <th>4</th>\n",
       "      <td>4</td>\n",
       "      <td>6</td>\n",
       "      <td>0</td>\n",
       "      <td>6</td>\n",
       "      <td>0</td>\n",
       "      <td>1</td>\n",
       "      <td>!!!!!!!!!!!!! RT @ShenikaRoberts: The shit you...</td>\n",
       "    </tr>\n",
       "  </tbody>\n",
       "</table>\n",
       "</div>"
      ],
      "text/plain": [
       "   Unnamed: 0  count  hate_speech  offensive_language  neither  class  \\\n",
       "0           0      3            0                   0        3      2   \n",
       "1           1      3            0                   3        0      1   \n",
       "2           2      3            0                   3        0      1   \n",
       "3           3      3            0                   2        1      1   \n",
       "4           4      6            0                   6        0      1   \n",
       "\n",
       "                                               tweet  \n",
       "0  !!! RT @mayasolovely: As a woman you shouldn't...  \n",
       "1  !!!!! RT @mleew17: boy dats cold...tyga dwn ba...  \n",
       "2  !!!!!!! RT @UrKindOfBrand Dawg!!!! RT @80sbaby...  \n",
       "3  !!!!!!!!! RT @C_G_Anderson: @viva_based she lo...  \n",
       "4  !!!!!!!!!!!!! RT @ShenikaRoberts: The shit you...  "
      ]
     },
     "execution_count": 3,
     "metadata": {},
     "output_type": "execute_result"
    }
   ],
   "source": [
    "# read the data\n",
    "df=pd.read_csv(\"./labeled_data.csv\")\n",
    "df.head()"
   ]
  },
  {
   "cell_type": "code",
   "execution_count": 4,
   "metadata": {},
   "outputs": [
    {
     "name": "stdout",
     "output_type": "stream",
     "text": [
      "<class 'pandas.core.frame.DataFrame'>\n",
      "RangeIndex: 24783 entries, 0 to 24782\n",
      "Data columns (total 7 columns):\n",
      " #   Column              Non-Null Count  Dtype \n",
      "---  ------              --------------  ----- \n",
      " 0   Unnamed: 0          24783 non-null  int64 \n",
      " 1   count               24783 non-null  int64 \n",
      " 2   hate_speech         24783 non-null  int64 \n",
      " 3   offensive_language  24783 non-null  int64 \n",
      " 4   neither             24783 non-null  int64 \n",
      " 5   class               24783 non-null  int64 \n",
      " 6   tweet               24783 non-null  object\n",
      "dtypes: int64(6), object(1)\n",
      "memory usage: 1.3+ MB\n"
     ]
    }
   ],
   "source": [
    "df.info()"
   ]
  },
  {
   "cell_type": "code",
   "execution_count": 5,
   "metadata": {},
   "outputs": [
    {
     "data": {
      "text/plain": [
       "Unnamed: 0            0\n",
       "count                 0\n",
       "hate_speech           0\n",
       "offensive_language    0\n",
       "neither               0\n",
       "class                 0\n",
       "tweet                 0\n",
       "dtype: int64"
      ]
     },
     "execution_count": 5,
     "metadata": {},
     "output_type": "execute_result"
    }
   ],
   "source": [
    "df.isna().sum()"
   ]
  },
  {
   "cell_type": "markdown",
   "metadata": {},
   "source": [
    "## Visualization"
   ]
  },
  {
   "cell_type": "code",
   "execution_count": 6,
   "metadata": {},
   "outputs": [
    {
     "data": {
      "text/plain": [
       "class\n",
       "1    19190\n",
       "2     4163\n",
       "0     1430\n",
       "Name: count, dtype: int64"
      ]
     },
     "execution_count": 6,
     "metadata": {},
     "output_type": "execute_result"
    }
   ],
   "source": [
    "df[\"class\"].value_counts() \n",
    "# 0 Fake news\n",
    "# 1 Offencive\n",
    "# none of the above\n",
    "# There are 3 different classes"
   ]
  },
  {
   "cell_type": "code",
   "execution_count": 7,
   "metadata": {},
   "outputs": [
    {
     "name": "stderr",
     "output_type": "stream",
     "text": [
      "C:\\Users\\bhara\\AppData\\Local\\Temp\\ipykernel_18892\\3651396975.py:3: FutureWarning: \n",
      "\n",
      "Passing `palette` without assigning `hue` is deprecated and will be removed in v0.14.0. Assign the `x` variable to `hue` and set `legend=False` for the same effect.\n",
      "\n",
      "  sns.countplot(data=df,x=\"class\",palette=\"viridis\")\n"
     ]
    },
    {
     "data": {
      "text/plain": [
       "Text(0.5, 1.0, 'News belongng to Different classes')"
      ]
     },
     "execution_count": 7,
     "metadata": {},
     "output_type": "execute_result"
    },
    {
     "data": {
      "image/png": "[encoded data removed]",
      "text/plain": [
       "<Figure size 600x400 with 1 Axes>"
      ]
     },
     "metadata": {},
     "output_type": "display_data"
    }
   ],
   "source": [
    "# histogram\n",
    "plt.figure(figsize=(6,4))\n",
    "sns.countplot(data=df,x=\"class\",palette=\"viridis\")\n",
    "plt.title(\"News belongng to Different classes\")"
   ]
  },
  {
   "cell_type": "code",
   "execution_count": 8,
   "metadata": {},
   "outputs": [
    {
     "data": {
      "text/plain": [
       "'!!!!! RT @mleew17: boy dats cold...tyga dwn bad for cuffin dat hoe in the 1st place!!'"
      ]
     },
     "execution_count": 8,
     "metadata": {},
     "output_type": "execute_result"
    }
   ],
   "source": [
    "df.iloc[1,-1]"
   ]
  },
  {
   "cell_type": "markdown",
   "metadata": {},
   "source": [
    "## Cleaning the data"
   ]
  },
  {
   "cell_type": "code",
   "execution_count": 9,
   "metadata": {},
   "outputs": [
    {
     "name": "stderr",
     "output_type": "stream",
     "text": [
      "<>:3: SyntaxWarning: invalid escape sequence '\\w'\n",
      "<>:3: SyntaxWarning: invalid escape sequence '\\w'\n",
      "C:\\Users\\bhara\\AppData\\Local\\Temp\\ipykernel_18892\\3042366313.py:3: SyntaxWarning: invalid escape sequence '\\w'\n",
      "  df[\"clean_tweet\"]=df[\"tweet\"].str.replace(\"@\\w+\",\"\",regex=True)\n"
     ]
    },
    {
     "data": {
      "text/html": [
       "<div>\n",
       "<style scoped>\n",
       "    .dataframe tbody tr th:only-of-type {\n",
       "        vertical-align: middle;\n",
       "    }\n",
       "\n",
       "    .dataframe tbody tr th {\n",
       "        vertical-align: top;\n",
       "    }\n",
       "\n",
       "    .dataframe thead th {\n",
       "        text-align: right;\n",
       "    }\n",
       "</style>\n",
       "<table border=\"1\" class=\"dataframe\">\n",
       "  <thead>\n",
       "    <tr style=\"text-align: right;\">\n",
       "      <th></th>\n",
       "      <th>Unnamed: 0</th>\n",
       "      <th>count</th>\n",
       "      <th>hate_speech</th>\n",
       "      <th>offensive_language</th>\n",
       "      <th>neither</th>\n",
       "      <th>class</th>\n",
       "      <th>tweet</th>\n",
       "      <th>clean_tweet</th>\n",
       "    </tr>\n",
       "  </thead>\n",
       "  <tbody>\n",
       "    <tr>\n",
       "      <th>0</th>\n",
       "      <td>0</td>\n",
       "      <td>3</td>\n",
       "      <td>0</td>\n",
       "      <td>0</td>\n",
       "      <td>3</td>\n",
       "      <td>2</td>\n",
       "      <td>!!! RT @mayasolovely: As a woman you shouldn't...</td>\n",
       "      <td>!!! RT : As a woman you shouldn't complain abo...</td>\n",
       "    </tr>\n",
       "    <tr>\n",
       "      <th>1</th>\n",
       "      <td>1</td>\n",
       "      <td>3</td>\n",
       "      <td>0</td>\n",
       "      <td>3</td>\n",
       "      <td>0</td>\n",
       "      <td>1</td>\n",
       "      <td>!!!!! RT @mleew17: boy dats cold...tyga dwn ba...</td>\n",
       "      <td>!!!!! RT : boy dats cold...tyga dwn bad for cu...</td>\n",
       "    </tr>\n",
       "    <tr>\n",
       "      <th>2</th>\n",
       "      <td>2</td>\n",
       "      <td>3</td>\n",
       "      <td>0</td>\n",
       "      <td>3</td>\n",
       "      <td>0</td>\n",
       "      <td>1</td>\n",
       "      <td>!!!!!!! RT @UrKindOfBrand Dawg!!!! RT @80sbaby...</td>\n",
       "      <td>!!!!!!! RT  Dawg!!!! RT : You ever fuck a bitc...</td>\n",
       "    </tr>\n",
       "    <tr>\n",
       "      <th>3</th>\n",
       "      <td>3</td>\n",
       "      <td>3</td>\n",
       "      <td>0</td>\n",
       "      <td>2</td>\n",
       "      <td>1</td>\n",
       "      <td>1</td>\n",
       "      <td>!!!!!!!!! RT @C_G_Anderson: @viva_based she lo...</td>\n",
       "      <td>!!!!!!!!! RT :  she look like a tranny</td>\n",
       "    </tr>\n",
       "    <tr>\n",
       "      <th>4</th>\n",
       "      <td>4</td>\n",
       "      <td>6</td>\n",
       "      <td>0</td>\n",
       "      <td>6</td>\n",
       "      <td>0</td>\n",
       "      <td>1</td>\n",
       "      <td>!!!!!!!!!!!!! RT @ShenikaRoberts: The shit you...</td>\n",
       "      <td>!!!!!!!!!!!!! RT : The shit you hear about me ...</td>\n",
       "    </tr>\n",
       "  </tbody>\n",
       "</table>\n",
       "</div>"
      ],
      "text/plain": [
       "   Unnamed: 0  count  hate_speech  offensive_language  neither  class  \\\n",
       "0           0      3            0                   0        3      2   \n",
       "1           1      3            0                   3        0      1   \n",
       "2           2      3            0                   3        0      1   \n",
       "3           3      3            0                   2        1      1   \n",
       "4           4      6            0                   6        0      1   \n",
       "\n",
       "                                               tweet  \\\n",
       "0  !!! RT @mayasolovely: As a woman you shouldn't...   \n",
       "1  !!!!! RT @mleew17: boy dats cold...tyga dwn ba...   \n",
       "2  !!!!!!! RT @UrKindOfBrand Dawg!!!! RT @80sbaby...   \n",
       "3  !!!!!!!!! RT @C_G_Anderson: @viva_based she lo...   \n",
       "4  !!!!!!!!!!!!! RT @ShenikaRoberts: The shit you...   \n",
       "\n",
       "                                         clean_tweet  \n",
       "0  !!! RT : As a woman you shouldn't complain abo...  \n",
       "1  !!!!! RT : boy dats cold...tyga dwn bad for cu...  \n",
       "2  !!!!!!! RT  Dawg!!!! RT : You ever fuck a bitc...  \n",
       "3             !!!!!!!!! RT :  she look like a tranny  \n",
       "4  !!!!!!!!!!!!! RT : The shit you hear about me ...  "
      ]
     },
     "execution_count": 9,
     "metadata": {},
     "output_type": "execute_result"
    }
   ],
   "source": [
    "# lets remove @mnetions(twitter handles)\n",
    "\n",
    "df[\"clean_tweet\"]=df[\"tweet\"].str.replace(\"@\\w+\",\"\",regex=True)\n",
    "df.head()\n",
    "\n"
   ]
  },
  {
   "cell_type": "code",
   "execution_count": 10,
   "metadata": {},
   "outputs": [
    {
     "data": {
      "text/html": [
       "<div>\n",
       "<style scoped>\n",
       "    .dataframe tbody tr th:only-of-type {\n",
       "        vertical-align: middle;\n",
       "    }\n",
       "\n",
       "    .dataframe tbody tr th {\n",
       "        vertical-align: top;\n",
       "    }\n",
       "\n",
       "    .dataframe thead th {\n",
       "        text-align: right;\n",
       "    }\n",
       "</style>\n",
       "<table border=\"1\" class=\"dataframe\">\n",
       "  <thead>\n",
       "    <tr style=\"text-align: right;\">\n",
       "      <th></th>\n",
       "      <th>Unnamed: 0</th>\n",
       "      <th>count</th>\n",
       "      <th>hate_speech</th>\n",
       "      <th>offensive_language</th>\n",
       "      <th>neither</th>\n",
       "      <th>class</th>\n",
       "      <th>tweet</th>\n",
       "      <th>clean_tweet</th>\n",
       "    </tr>\n",
       "  </thead>\n",
       "  <tbody>\n",
       "    <tr>\n",
       "      <th>0</th>\n",
       "      <td>0</td>\n",
       "      <td>3</td>\n",
       "      <td>0</td>\n",
       "      <td>0</td>\n",
       "      <td>3</td>\n",
       "      <td>2</td>\n",
       "      <td>!!! RT @mayasolovely: As a woman you shouldn't...</td>\n",
       "      <td>RT : As a woman you shouldn't complain about ...</td>\n",
       "    </tr>\n",
       "    <tr>\n",
       "      <th>1</th>\n",
       "      <td>1</td>\n",
       "      <td>3</td>\n",
       "      <td>0</td>\n",
       "      <td>3</td>\n",
       "      <td>0</td>\n",
       "      <td>1</td>\n",
       "      <td>!!!!! RT @mleew17: boy dats cold...tyga dwn ba...</td>\n",
       "      <td>RT : boy dats cold...tyga dwn bad for cuffin ...</td>\n",
       "    </tr>\n",
       "    <tr>\n",
       "      <th>2</th>\n",
       "      <td>2</td>\n",
       "      <td>3</td>\n",
       "      <td>0</td>\n",
       "      <td>3</td>\n",
       "      <td>0</td>\n",
       "      <td>1</td>\n",
       "      <td>!!!!!!! RT @UrKindOfBrand Dawg!!!! RT @80sbaby...</td>\n",
       "      <td>RT  Dawg RT : You ever fuck a bitch and she s...</td>\n",
       "    </tr>\n",
       "    <tr>\n",
       "      <th>3</th>\n",
       "      <td>3</td>\n",
       "      <td>3</td>\n",
       "      <td>0</td>\n",
       "      <td>2</td>\n",
       "      <td>1</td>\n",
       "      <td>1</td>\n",
       "      <td>!!!!!!!!! RT @C_G_Anderson: @viva_based she lo...</td>\n",
       "      <td>RT :  she look like a tranny</td>\n",
       "    </tr>\n",
       "    <tr>\n",
       "      <th>4</th>\n",
       "      <td>4</td>\n",
       "      <td>6</td>\n",
       "      <td>0</td>\n",
       "      <td>6</td>\n",
       "      <td>0</td>\n",
       "      <td>1</td>\n",
       "      <td>!!!!!!!!!!!!! RT @ShenikaRoberts: The shit you...</td>\n",
       "      <td>RT : The shit you hear about me might be true...</td>\n",
       "    </tr>\n",
       "  </tbody>\n",
       "</table>\n",
       "</div>"
      ],
      "text/plain": [
       "   Unnamed: 0  count  hate_speech  offensive_language  neither  class  \\\n",
       "0           0      3            0                   0        3      2   \n",
       "1           1      3            0                   3        0      1   \n",
       "2           2      3            0                   3        0      1   \n",
       "3           3      3            0                   2        1      1   \n",
       "4           4      6            0                   6        0      1   \n",
       "\n",
       "                                               tweet  \\\n",
       "0  !!! RT @mayasolovely: As a woman you shouldn't...   \n",
       "1  !!!!! RT @mleew17: boy dats cold...tyga dwn ba...   \n",
       "2  !!!!!!! RT @UrKindOfBrand Dawg!!!! RT @80sbaby...   \n",
       "3  !!!!!!!!! RT @C_G_Anderson: @viva_based she lo...   \n",
       "4  !!!!!!!!!!!!! RT @ShenikaRoberts: The shit you...   \n",
       "\n",
       "                                         clean_tweet  \n",
       "0   RT : As a woman you shouldn't complain about ...  \n",
       "1   RT : boy dats cold...tyga dwn bad for cuffin ...  \n",
       "2   RT  Dawg RT : You ever fuck a bitch and she s...  \n",
       "3                       RT :  she look like a tranny  \n",
       "4   RT : The shit you hear about me might be true...  "
      ]
     },
     "execution_count": 10,
     "metadata": {},
     "output_type": "execute_result"
    }
   ],
   "source": [
    "df[\"clean_tweet\"]=df[\"clean_tweet\"].str.replace(\"!\",\"\",regex=True)\n",
    "df.head()"
   ]
  },
  {
   "cell_type": "markdown",
   "metadata": {},
   "source": [
    "## Understanding the Datasets of HuggingFace"
   ]
  },
  {
   "cell_type": "code",
   "execution_count": 11,
   "metadata": {},
   "outputs": [
    {
     "data": {
      "text/plain": [
       "DatasetDict({\n",
       "    train: Dataset({\n",
       "        features: ['text', 'label'],\n",
       "        num_rows: 8530\n",
       "    })\n",
       "    validation: Dataset({\n",
       "        features: ['text', 'label'],\n",
       "        num_rows: 1066\n",
       "    })\n",
       "    test: Dataset({\n",
       "        features: ['text', 'label'],\n",
       "        num_rows: 1066\n",
       "    })\n",
       "})"
      ]
     },
     "execution_count": 11,
     "metadata": {},
     "output_type": "execute_result"
    }
   ],
   "source": [
    "# lets load rotten tomatoes dataset and explore\n",
    "\n",
    "from datasets import load_dataset,DatasetDict,Dataset\n",
    "\n",
    "rt=load_dataset(\"rotten_tomatoes\")\n",
    "rt"
   ]
  },
  {
   "cell_type": "code",
   "execution_count": 12,
   "metadata": {},
   "outputs": [
    {
     "data": {
      "text/plain": [
       "{'text': 'the rock is destined to be the 21st century\\'s new \" conan \" and that he\\'s going to make a splash even greater than arnold schwarzenegger , jean-claud van damme or steven segal .',\n",
       " 'label': 1}"
      ]
     },
     "execution_count": 12,
     "metadata": {},
     "output_type": "execute_result"
    }
   ],
   "source": [
    "rt[\"train\"][0]"
   ]
  },
  {
   "cell_type": "markdown",
   "metadata": {},
   "source": [
    "## Create A Dataset from the Dataframe"
   ]
  },
  {
   "cell_type": "code",
   "execution_count": 13,
   "metadata": {},
   "outputs": [
    {
     "data": {
      "text/plain": [
       "Dataset({\n",
       "    features: ['Unnamed: 0', 'count', 'hate_speech', 'offensive_language', 'neither', 'class', 'tweet', 'clean_tweet'],\n",
       "    num_rows: 24783\n",
       "})"
      ]
     },
     "execution_count": 13,
     "metadata": {},
     "output_type": "execute_result"
    }
   ],
   "source": [
    "# lets a create a dataset from our DataFrame \n",
    "# (Note we can create the same form csv file directly but certain transfomraations we need arent possible)\n",
    "\n",
    "fake_news_df=Dataset.from_pandas(df)\n",
    "fake_news_df\n"
   ]
  },
  {
   "cell_type": "code",
   "execution_count": 14,
   "metadata": {},
   "outputs": [
    {
     "name": "stdout",
     "output_type": "stream",
     "text": [
      "<class 'pandas.core.frame.DataFrame'>\n",
      "RangeIndex: 24783 entries, 0 to 24782\n",
      "Data columns (total 8 columns):\n",
      " #   Column              Non-Null Count  Dtype \n",
      "---  ------              --------------  ----- \n",
      " 0   Unnamed: 0          24783 non-null  int64 \n",
      " 1   count               24783 non-null  int64 \n",
      " 2   hate_speech         24783 non-null  int64 \n",
      " 3   offensive_language  24783 non-null  int64 \n",
      " 4   neither             24783 non-null  int64 \n",
      " 5   class               24783 non-null  int64 \n",
      " 6   tweet               24783 non-null  object\n",
      " 7   clean_tweet         24783 non-null  object\n",
      "dtypes: int64(6), object(2)\n",
      "memory usage: 1.5+ MB\n"
     ]
    }
   ],
   "source": [
    "df.info()"
   ]
  },
  {
   "cell_type": "markdown",
   "metadata": {},
   "source": [
    "## Split the dataset"
   ]
  },
  {
   "cell_type": "code",
   "execution_count": 15,
   "metadata": {},
   "outputs": [
    {
     "name": "stdout",
     "output_type": "stream",
     "text": [
      "DatasetDict({\n",
      "    train: Dataset({\n",
      "        features: ['Unnamed: 0', 'count', 'hate_speech', 'offensive_language', 'neither', 'class', 'tweet', 'clean_tweet'],\n",
      "        num_rows: 19826\n",
      "    })\n",
      "    test: Dataset({\n",
      "        features: ['Unnamed: 0', 'count', 'hate_speech', 'offensive_language', 'neither', 'class', 'tweet', 'clean_tweet'],\n",
      "        num_rows: 4957\n",
      "    })\n",
      "})\n",
      "DatasetDict({\n",
      "    train: Dataset({\n",
      "        features: ['Unnamed: 0', 'count', 'hate_speech', 'offensive_language', 'neither', 'class', 'tweet', 'clean_tweet'],\n",
      "        num_rows: 15860\n",
      "    })\n",
      "    test: Dataset({\n",
      "        features: ['Unnamed: 0', 'count', 'hate_speech', 'offensive_language', 'neither', 'class', 'tweet', 'clean_tweet'],\n",
      "        num_rows: 3966\n",
      "    })\n",
      "})\n"
     ]
    }
   ],
   "source": [
    "# lets split the dataset into train ,test and valid sets \n",
    "\n",
    "# train and test set\n",
    "train_test_split=fake_news_df.train_test_split(test_size=0.2) # split into train and test(20%)\n",
    "print(train_test_split)\n",
    "\n",
    "# split the above train into train and valid\n",
    "train_valid_dataset=train_test_split[\"train\"].train_test_split(test_size=0.2) # split the train into valid (20%)\n",
    "print(train_valid_dataset)"
   ]
  },
  {
   "cell_type": "code",
   "execution_count": 16,
   "metadata": {},
   "outputs": [],
   "source": [
    "# final Dataset\n",
    "fake_news_ds=DatasetDict({\n",
    "    \"train\":train_valid_dataset[\"train\"],\n",
    "    \"validation\":train_valid_dataset[\"test\"],\n",
    "    \"test\":train_test_split[\"test\"]\n",
    "    \n",
    "    })"
   ]
  },
  {
   "cell_type": "code",
   "execution_count": 17,
   "metadata": {},
   "outputs": [
    {
     "data": {
      "text/plain": [
       "DatasetDict({\n",
       "    train: Dataset({\n",
       "        features: ['Unnamed: 0', 'count', 'hate_speech', 'offensive_language', 'neither', 'class', 'tweet', 'clean_tweet'],\n",
       "        num_rows: 15860\n",
       "    })\n",
       "    validation: Dataset({\n",
       "        features: ['Unnamed: 0', 'count', 'hate_speech', 'offensive_language', 'neither', 'class', 'tweet', 'clean_tweet'],\n",
       "        num_rows: 3966\n",
       "    })\n",
       "    test: Dataset({\n",
       "        features: ['Unnamed: 0', 'count', 'hate_speech', 'offensive_language', 'neither', 'class', 'tweet', 'clean_tweet'],\n",
       "        num_rows: 4957\n",
       "    })\n",
       "})"
      ]
     },
     "execution_count": 17,
     "metadata": {},
     "output_type": "execute_result"
    }
   ],
   "source": [
    "# Examnien the dataset we have created\n",
    "fake_news_ds"
   ]
  },
  {
   "cell_type": "markdown",
   "metadata": {},
   "source": [
    "## Push to Huggingfacehub"
   ]
  },
  {
   "cell_type": "code",
   "execution_count": 18,
   "metadata": {},
   "outputs": [
    {
     "data": {
      "application/vnd.jupyter.widget-view+json": {
       "model_id": "39bb2680b8b84863a720dee0adff9e46",
       "version_major": 2,
       "version_minor": 0
      },
      "text/plain": [
       "Uploading the dataset shards:   0%|          | 0/1 [00:00<?, ?it/s]"
      ]
     },
     "metadata": {},
     "output_type": "display_data"
    },
    {
     "data": {
      "application/vnd.jupyter.widget-view+json": {
       "model_id": "55c2368bcb194bf183e6caad00f27cf4",
       "version_major": 2,
       "version_minor": 0
      },
      "text/plain": [
       "Creating parquet from Arrow format:   0%|          | 0/16 [00:00<?, ?ba/s]"
      ]
     },
     "metadata": {},
     "output_type": "display_data"
    },
    {
     "data": {
      "application/vnd.jupyter.widget-view+json": {
       "model_id": "c6c6b837e708422b9fa95d6939b8d3c3",
       "version_major": 2,
       "version_minor": 0
      },
      "text/plain": [
       "Uploading the dataset shards:   0%|          | 0/1 [00:00<?, ?it/s]"
      ]
     },
     "metadata": {},
     "output_type": "display_data"
    },
    {
     "data": {
      "application/vnd.jupyter.widget-view+json": {
       "model_id": "f26e40bf7b34442a877e812f3da4ac96",
       "version_major": 2,
       "version_minor": 0
      },
      "text/plain": [
       "Creating parquet from Arrow format:   0%|          | 0/4 [00:00<?, ?ba/s]"
      ]
     },
     "metadata": {},
     "output_type": "display_data"
    },
    {
     "data": {
      "application/vnd.jupyter.widget-view+json": {
       "model_id": "97d8741fa79a4f38bb2aa47dd46af77c",
       "version_major": 2,
       "version_minor": 0
      },
      "text/plain": [
       "Uploading the dataset shards:   0%|          | 0/1 [00:00<?, ?it/s]"
      ]
     },
     "metadata": {},
     "output_type": "display_data"
    },
    {
     "data": {
      "application/vnd.jupyter.widget-view+json": {
       "model_id": "f426f3e5a7994f2fa54857dcd4a78ba1",
       "version_major": 2,
       "version_minor": 0
      },
      "text/plain": [
       "Creating parquet from Arrow format:   0%|          | 0/5 [00:00<?, ?ba/s]"
      ]
     },
     "metadata": {},
     "output_type": "display_data"
    },
    {
     "data": {
      "application/vnd.jupyter.widget-view+json": {
       "model_id": "e2237eb123664460bd6363a59c7a0023",
       "version_major": 2,
       "version_minor": 0
      },
      "text/plain": [
       "README.md:   0%|          | 0.00/791 [00:00<?, ?B/s]"
      ]
     },
     "metadata": {},
     "output_type": "display_data"
    },
    {
     "data": {
      "text/plain": [
       "CommitInfo(commit_url='https://huggingface.co/datasets/bkr969/fake_news/commit/0dc11612022cadbb0af6716cba60aea0be40ef47', commit_message='Upload dataset', commit_description='', oid='0dc11612022cadbb0af6716cba60aea0be40ef47', pr_url=None, repo_url=RepoUrl('https://huggingface.co/datasets/bkr969/fake_news', endpoint='https://huggingface.co', repo_type='dataset', repo_id='bkr969/fake_news'), pr_revision=None, pr_num=None)"
      ]
     },
     "execution_count": 18,
     "metadata": {},
     "output_type": "execute_result"
    }
   ],
   "source": [
    "fake_news_ds.push_to_hub(\"bkr969/fake_news\")\n"
   ]
  },
  {
   "cell_type": "code",
   "execution_count": 19,
   "metadata": {},
   "outputs": [
    {
     "data": {
      "text/plain": [
       "DatasetDict({\n",
       "    train: Dataset({\n",
       "        features: ['class', 'tweet', 'clean_tweet'],\n",
       "        num_rows: 15860\n",
       "    })\n",
       "    validation: Dataset({\n",
       "        features: ['class', 'tweet', 'clean_tweet'],\n",
       "        num_rows: 3966\n",
       "    })\n",
       "    test: Dataset({\n",
       "        features: ['class', 'tweet', 'clean_tweet'],\n",
       "        num_rows: 4957\n",
       "    })\n",
       "})"
      ]
     },
     "execution_count": 19,
     "metadata": {},
     "output_type": "execute_result"
    }
   ],
   "source": [
    "# lets remove the columns\n",
    "Final_ds=fake_news_ds.remove_columns(['Unnamed: 0', 'count', 'hate_speech', 'offensive_language', 'neither'])\n",
    "Final_ds"
   ]
  },
  {
   "cell_type": "markdown",
   "metadata": {},
   "source": [
    "## Tokenization"
   ]
  },
  {
   "cell_type": "code",
   "execution_count": 20,
   "metadata": {},
   "outputs": [],
   "source": [
    "from transformers import AutoTokenizer,TFAutoModelForSequenceClassification\n",
    "import tensorflow as tf"
   ]
  },
  {
   "cell_type": "code",
   "execution_count": 21,
   "metadata": {},
   "outputs": [],
   "source": [
    "tokenizer=AutoTokenizer.from_pretrained(\"bert-base-cased\")\n"
   ]
  },
  {
   "cell_type": "code",
   "execution_count": 22,
   "metadata": {},
   "outputs": [
    {
     "data": {
      "text/plain": [
       "{'input_ids': [101, 1198, 9444, 22559, 2734, 102], 'token_type_ids': [0, 0, 0, 0, 0, 0], 'attention_mask': [1, 1, 1, 1, 1, 1]}"
      ]
     },
     "execution_count": 22,
     "metadata": {},
     "output_type": "execute_result"
    }
   ],
   "source": [
    "text=\"just checking tokenization\"\n",
    "output=tokenizer(text)\n",
    "output"
   ]
  },
  {
   "cell_type": "code",
   "execution_count": 23,
   "metadata": {},
   "outputs": [
    {
     "data": {
      "text/plain": [
       "['[CLS]', 'just', 'checking', 'token', '##ization', '[SEP]']"
      ]
     },
     "execution_count": 23,
     "metadata": {},
     "output_type": "execute_result"
    }
   ],
   "source": [
    "tokenizer.convert_ids_to_tokens(output[\"input_ids\"])"
   ]
  },
  {
   "cell_type": "code",
   "execution_count": 24,
   "metadata": {},
   "outputs": [
    {
     "name": "stdout",
     "output_type": "stream",
     "text": [
      "vocab_size is :28996\n",
      "Model max length is:512\n",
      "Model max length is:['input_ids', 'token_type_ids', 'attention_mask']\n"
     ]
    }
   ],
   "source": [
    "print(f\"vocab_size is :{tokenizer.vocab_size}\")\n",
    "print(f\"Model max length is:{tokenizer.model_max_length}\")\n",
    "print(f\"Model max length is:{tokenizer.model_input_names}\")"
   ]
  },
  {
   "cell_type": "code",
   "execution_count": 25,
   "metadata": {},
   "outputs": [
    {
     "data": {
      "text/plain": [
       "['When the pussy stank  &#128514;&#128514;&#128514;&#128514;&#128514; http://t.co/X5LIVg2b0q',\n",
       " 'RT : First day of spring break: ate half a pan of brownies &amp; watched 6 episodes of Parks and Rec with  &amp; &#8230;',\n",
       " ' forgot someone niglet',\n",
       " \"  Don't be a bitch\",\n",
       " 'a bitch can have two black eyes, bloody lip, scalp bleeding, bruises, and a broken arm and still be like \"but i love him\" lmao',\n",
       " 'Omg chloe just pulled up to my house like \"come outside bitch\" &#128514;&#128514;&#128514;&#128514; hella cray',\n",
       " ' hell yeah I got bokoo hoes when I had my fro',\n",
       " '\"Caesar is home\" RT : &#8220;: https://t.co/mw5KAojKXB\"theres so much this bitch looks like. Lets start with ape shit&#8221;&#128557;&#128557;\"',\n",
       " 'Welcome to the family, Mia Meli #new #puppy #adorable #cute #fluffy #mutt #mybaby #girl http://t.co/a27C1XueZP',\n",
       " \"   yo fat ugly ass couldn't even pull the ugly bitch in the school\",\n",
       " 'The only thing about niccas is they be followers smh .. Be ya self everyone else is taken',\n",
       " \"I'm in this hoe tripppped out people be wildin\",\n",
       " 'RT : Dudes taking \"selfies\" aint cute. .... ya pussies',\n",
       " '&amp; thots are wearing Uggs RT : #ItsFallBecause negros are pulling out their Timbs\"',\n",
       " '&#8220;:  Yea bitch&#8221;dam',\n",
       " \" I HATE birds They just piss me off about the fact that I can't fly\",\n",
       " '\"I taught myself how to eat pussy, and cut my own hair\"\\n\"I taught myself how to eat pussy hair\"&#128514;\\nName the movie &#128514;',\n",
       " 'so uncivilized',\n",
       " '\"Don\\'t worry about the nigga you see, worry about the nigga you DON\\'T see... Dat\\'s da nigga fuckin yo bitch.\"',\n",
       " 'RT : Karmas a bitch &#128514;&#128514;&#128514;?',\n",
       " \"I don't want no Philly disease lol Thot bitch\",\n",
       " \"RT : You can do anything you want in life, just don't be a fucking bitch\",\n",
       " ' sal tryin 2 pull a K. Ferderline..lazy ass son of a bitch',\n",
       " 'RT : ion ask nobody for SHIT . ever . never have a problem doing shit fa people neither but damn can a bitch get a thank you ?',\n",
       " ' what a ratchet ass bitch bet she felt dumb&#9996;&#65039;',\n",
       " '#TRUTH RT : David is the Charlie Brown of #Scandal',\n",
       " 'I need a bad bitch thats gon treat me good',\n",
       " 'RT : js met a lil bitch wit a long name mufucka had more letters den Tennessee, I go gorilla ina pussy, RIP&#128527;',\n",
       " 'Fat bitches Twitter names be \" PrincessCookieNeckBackCrack \" lmaoo &#128514;&#128514;&#128514;',\n",
       " 'RT : i know what color my skin is. you can stop with the friendly reminders bitch.',\n",
       " 'Damn some Oreos would be so fucking clutch right now',\n",
       " \"RT : Yankees didn't want Russell Martin, so he signed with the Pirates 2 years ago. Pirates have made back-to-back postseasons&#8230;\",\n",
       " ' These Marxist kikes promoted Anti-Semitism by creating this film, what was their incentive? They just promote their enemies.',\n",
       " 'sheryl crow being the bae',\n",
       " 'What that bitch Tryna say',\n",
       " ' so was slavery, prohibition and not letting women to vote... segregation jim crow laws.. etc etc i can do this all day lol',\n",
       " 'Aloha bitches 27 minutes before I caught a 32ft #greatwhite #okaysomaybeimlying #butiwasfishing http://t.co/N86Ew3zhep',\n",
       " 'Now my side bitch my main bitch cause my main bitch aint feelin me no moe',\n",
       " 'RT : How bitch how?&#128529;&#128514;&#128514; http://t.co/FCQfDKI4Zn',\n",
       " \"All da white folk off twitter yet? Da colored tweet at night while y'all sleep cuz you gotta woyke tomorrow.\",\n",
       " 'RT : when other girls wear beanies they look cute &amp; stylish but when i wear them i look like a member of a drug cartel who sel&#8230;',\n",
       " \"A random am scroll lands me here...RT  Charlie horses durin sex just simply means you didn't drink enough water that day\",\n",
       " 'Thee Bears are trash tho...',\n",
       " \"I don't feel like all black people are niggers but if you're black and you're being a nigger, imma tell you, idc\",\n",
       " \"Excuse me, here's your nose. I found it in my business hoe.\",\n",
       " 'RT : \" fuck you say bitch? I will kill you \" http://t.co/3EiGzh6Q13',\n",
       " 'the things I do for this bitch smh',\n",
       " ' eew bitch get out of my carrrr',\n",
       " 'bitch you guessin',\n",
       " 'That ios8 gon get yall bitches fucced up . Trynna hide shit',\n",
       " 'RT : BITCH FOR WHO, GAP? RT \": I\\'m a model Yall bitches can\\'t tell me nothin\" http://t.co/LDOTnl5pNa',\n",
       " \"Obama's Hellfire missiles tend to vaporize Jihadis   #UniteBlue\",\n",
       " 'RT : Ayy fag , you still having your party tonight ?  &#127867;&#127867;&#128540;',\n",
       " \"RT : British Jihadi Mother Who Wants to Be First Female Executioner is MI6's Most Wanted http://t.co/INZPvpf2tN\",\n",
       " 'RT : I hate a bitch that constantly call herself ugly. That shit is so annoying man',\n",
       " 'RT :  pepsi and cheerios\\nsmashin on these hoes\\ngot me blue in the taco\\nbae thinks of me flaco\\nerrybody frontin\\njus&#8230;',\n",
       " 'Bruh. pt. 2 jaxon1114 killed this hoe too last night while we was sleep. http://t.co/F1Choia21G',\n",
       " 'Young, stupid ass hoes these days&#128514;&#128514;#GOTDAYUM',\n",
       " 'The  elite call conservatives \"our niggers\" behind closed doors. #tcot #teaparty',\n",
       " \"I'm literally laughing in shock, amazement, joy. In...just everything. In everything Pop the champagne American queers. We have arrived.\",\n",
       " 'U got niggas an i got bitches &#127911;',\n",
       " \"99 problems but a bitch ain't 1\",\n",
       " \"RT : I hate when faggots talk shit on here then block me so I can't respond. Bitch I will write you a letter with my response an&#8230;\",\n",
       " ' ling ling krunkchip',\n",
       " 'They really should expand this bitch with all the money',\n",
       " 'Oreos and ho hos put into milk...',\n",
       " ' bitch lol',\n",
       " ' bitch FOH',\n",
       " 'You don\\'t know me, but I\\'m your bra. RT : Doobie Brothers member Michael McDonald says he\\'ll \"come out as a tranny\"',\n",
       " ' Says the old man :( I hope you can survive another 10 years, you silly Jigga boo monkey',\n",
       " \"I can't take yo bitch if I can't see yo bitch...\",\n",
       " '   shut up you nappy headed hoe',\n",
       " 'She say she can do that same thing as 5 bitches ,',\n",
       " \"why are people acting like they didn't know hoe allen was going to the cavs 6 months ago?\",\n",
       " '\"I found a new way to chug you have to open your mouth alot\" #shitallysays',\n",
       " ' they be tryna b on the low but one day these bitches gonna realize some niggas talk more then them l&#128514;',\n",
       " \"RT : Remember all the trash on the floor of your car? We upgraded it &amp; put Wale's The Gifted so it feels like your old car htt&#8230;\",\n",
       " \"RT : Them hoes come them hoes go it's a revolving cycle &#128080;\",\n",
       " \"DO IT DO IT You'll still e a fag but do it(: &#8212; I'll pass Heidi. ;) http://t.co/UTttLmOLXO\",\n",
       " \" you'd like that wouldn't you fag\",\n",
       " ' He promised to stand with the muzzies, so...',\n",
       " ' the fuck r u talking about I told u once and am going to tell u against nigga I love white bitch gtf bro',\n",
       " 'Damn bitch gotta bootay',\n",
       " 'If only you bitches REALLY knew',\n",
       " 'Why you let these hoes tear what we had apart you shud be beware beware',\n",
       " ' u a bitch in niggas clothing shut yo ass up &#128514;&#128514;&#128514;&#128514;&#128514;',\n",
       " '  oh so basically we both will be your bitch all day? Mhmmm of course..............',\n",
       " 'RT : If you honk your horn .4 seconds after the light turns green, I will shut off my car, lay on the hood, and feed birds fo&#8230;',\n",
       " 'RT : Amo a esa gente que me odia.. http://t.co/8Zr3e0YsoE',\n",
       " ' bitch I might be\\n**~aesthetic~** http://t.co/cYOpCv8oq8',\n",
       " 'RT : All that high fashion leather gear u wearin to impress a bitch..I got at her wit a dickie shirt and some Adidas slides&#8230;',\n",
       " 'Y\\'all bitches be coming up with some dumb shit... What the fuck is \"fleek\"? &#128529;',\n",
       " \"You will never get a &#128141;&#128142; if you don't know how to cook &#127831;&#127830;&#127837;&#127844;&#127835;&#127829; for ya man fr atleast not from a nigga like me. Slackin ass bitches\",\n",
       " \"RT : Bitches ain't shit hoes ain't neither\",\n",
       " '  suck my dick you cunts',\n",
       " ' alas, I am proficient in neither. my skills are limited to pointless stat memorization + trash talk.',\n",
       " ' ur a boss ass bitch',\n",
       " 'Somebody tell these pussy niggas I got em I got em',\n",
       " '  And I really be thuggin wtf I look like hanging around some lil chipotle Jamba Juice ass bitches&#8221; like &#128686;&#128686; &#128557;&#128514;&#128557;&#128514;',\n",
       " 'RT : being a good citizen picking up trash (: http://t.co/PMFR5eopwO',\n",
       " \"  So they could complain about racial profiling I'm sure, bloody twats\",\n",
       " 'RT : US ghettos-driven by lib ideology;forged by unions&amp;bankrupted by self-serving Ds catering 2parasites #tcot http://t.co/Ee2L5&#8230;',\n",
       " \"This bitch said she'll do something strange for some change\",\n",
       " 'RT : Bitch at MacDonalds say..\"U look a lil devilish 2day homey\"..Oh well bitch..I WOKE UP LIKE THIS-I WOKE UP LIKE THIS(Bey&#8230;',\n",
       " 'RT : Made Homemade chili and cornbread for dinner. And watching Supernatural with my fave boys Happy Saturday bitches http:/&#8230;',\n",
       " 'Studying for this bio test like a hoe &#128554;',\n",
       " 'How are you gonna be a cunt to your friends',\n",
       " '#throwback to being bitches &amp; drinking Mikes bc we sucked  http://t.co/jfCthdEDcz',\n",
       " ' Na a young bitch got school &#128514;&#128514;&#128514;',\n",
       " \"What the hell are we doing with pussy rules that soldiers don't carry weapons 24/7 on base? They are trained. Liberal crap &amp; people die.\",\n",
       " ' This bitch is not only an idiot but a troll #spamblocked so keep spewing ur shit    ',\n",
       " \"After 27 weeks straight of that nigga being you MCM we get it bitch y'all fucking &#128514;&#128514;&#128514;&#128514;\",\n",
       " \" I didn't think you knew of a bird that couldn't be tamed. #cajuncharm\",\n",
       " 'RT : These young cats being drafted in the NBA today are walking lotto tickets Wait till these niggas find out that pussy come&#8230;',\n",
       " 'RT : The dating scene so wack out here dog&#8230; shit super trash.',\n",
       " \"I'm just salty bitch\",\n",
       " 'RT : Girl: I know you got hoes \\n\\nMe: http://t.co/qNa9ogveWW',\n",
       " \"You're like a lucky leprechaun with a charmed day on your hand... More for Gemini http://t.co/2nx6NlOxOe\",\n",
       " 'Lol I followed the bitch just so I can unfollow her cause she talkin shit, shit away with her two',\n",
       " \"Pm is u use any of the words I use (ex. Sweg,pm,yid,nid) we're dating\",\n",
       " 'RT : Omg the two monkey twins had never to call another girl ugly. They got thicker mustaches then me &#128534;',\n",
       " ' I didnt call you a bitch, I just saiddd bitch. #Jeesh',\n",
       " \"That's most niggas RT : Fucking with the wrong bitches got me cold as ice...\",\n",
       " 'Everytime I fuck I gotta hit me at least two bitches',\n",
       " 'These bitches are taking forevs doe',\n",
       " 'She May Be Dumb As A Stump, but even Sarah mocks OBAMA http://t.co/Qwxb4wbfZq&#8221;',\n",
       " 'I hate being profiled. I\\'m not \"country\", I\\'m not a \"hick\". I\\'m Eric Dean Vestal, and I\\'m doing what makes me happy, not anything else.&#128076;&#128075;',\n",
       " 'I&#8217;ll gladly be a victim RT : Then im a felon RT : A bitch over 200lbs riding ur face is attempted murder &#128555;&#128555;',\n",
       " \" wow. Thats great language coming from a HS coach, you sure are a role model, you're trash, just like your account\",\n",
       " 'This man Wimp gotta be drunk he know damn well he dont fw no hoes &#128514;&#128557;',\n",
       " 'RT : Karate bitch https://t.co/UtEUTZkjOk',\n",
       " '  boy u look like big bird off of sesame street',\n",
       " ' he had the hoes too',\n",
       " 'RT : Martin Short On - CONAN - Oct 3, 2014\\n\\n\"With your yellow skin and red hair you look like a #2 pencil.\"\\n\\nhttps://t.co/U&#8230;',\n",
       " 'Damn Joe Buck just making it sound like Greinke was trash when he played for the Royals. Chill out Joe.',\n",
       " 'RT : Yo bitch, what cho name bitch? I wanna fuck ya bitch. -Jacey (the things she says to me doe)  #bff #baby #&#8230;',\n",
       " 'All I want for my birthday is a big booty hoe.',\n",
       " 'They hating on you, because they know you bad, must be doing something right , if you got these bitches mad.',\n",
       " 'Thinking about trying to get pussy like..... http://t.co/08cQV2vCcx',\n",
       " ' lucky monkey',\n",
       " ' them hoes look good',\n",
       " 'Oreos are my life',\n",
       " 'RT : My boy is obviously gonna be slaying all the pussy tonight, dressed as a ninja turtle http://t.co/su2HNFq6S8',\n",
       " 'RT : \": She threw me that pussy bt i neva caught it\" gay',\n",
       " 'RT : what the fuck is this disgusting nigger from the movie captain phillips doing on the red carpet for the oscars what the fuc&#8230;',\n",
       " 'Wait. What in the mudda cunt hypocrisy',\n",
       " 'What the monkey... http://t.co/h76rptL8Wq',\n",
       " ' @ me bitch. When and where?',\n",
       " 'RT : Travis always on my TL being ghetto &#128514;&#128514;',\n",
       " 'RT : Free pancake day at ihop....side bitches finna finally get a date out a nigga',\n",
       " \"I ain't don't turnin up bitch\",\n",
       " 'When bitches say \"I want to cuddle.\" It real is them speaking in code saying they want the D',\n",
       " 'I aint mad at you, thats what hoes do',\n",
       " \"I'm not going to chase a dumb bitch\",\n",
       " 'Ricky is such a bitch when it comes to girls&#128530;',\n",
       " 'RT : Who needs Twinkies? When you got Gansitos?',\n",
       " 'Ma bottom bitch cotton pick if I tell her too , she give me money all yo hoe give you is attitude',\n",
       " 'Damn hoe.. You so ugly even hello kitty said goodbye.',\n",
       " 'RT : Jessica ass dont need no more liquior  when the bitch drinks she forgets everything the very next day  it never fa&#8230;',\n",
       " \"RT: Thank you, Captain. It'll never be the same.  #Jeter#2 http://t.co/EIe8D8C5cj&#8221;\",\n",
       " ' - pussy &amp; purp.&#128514;',\n",
       " \"     this hoe wasn't loyal http://t.co/LG83fwLdwp\",\n",
       " 'None of my bitches can stay over',\n",
       " ' Sauerkraut Saul is a punk ass bitch',\n",
       " \"RT : Me: My bitch face is on point. \\n: That's 24/7. \\n\\n#Thanks\",\n",
       " 'RT : Oreo Cookie Pancakes #FoodPorn http://t.co/q6EvCvM3sO',\n",
       " \"Idk how I have friends I'm so blunt and sarcastic people probably think I'm a raging bitch.\",\n",
       " 'Yeah you bad but hoe so what',\n",
       " 'I just love that \"tweaking hoe tweaking hoe song that\\'s the only part I no &#128584; wee be getting money so we ball out some sme sme',\n",
       " 'http://t.co/74uLxaf &lt;--this bitch ',\n",
       " ' niggah lol i had 6 beers before i went to the bar then had 4 beers at the bar then got a 12pck on the way home lool',\n",
       " ' grow a pair pussy',\n",
       " 'Its what we call #Bitchassness RT : If a nicca tell a female another man got mad girls throwin salt that man gay straight up',\n",
       " ' wanted me to let everyone know he downloaded the whole Acoustic Justin Bieber album #fag',\n",
       " \"RT : Well there's difference between Erick Erickson and me. I've always understood Obama is Muslim Jihadi sympathizer:\\nhttps://t.&#8230;\",\n",
       " 'RT : Amber rose is everything at the vmas. Killen every bitch.',\n",
       " 'RT : Ok seriously fuck the people who slam on their breaks when the light turns yellow. FLOOR THAT SHIT BITCH',\n",
       " \"Precisely RT : &#8220;: Soon as y'all break up is when she starts doing the shit she swore she'd never do&#8221; like being a hoe\",\n",
       " 'RT : Today  did my hair and makeup.. He always tries to make me look like a monkey. http://t.co/tym2JD7h3Z',\n",
       " 'Hoes always tryna say they look like a celebrity .... NO BITCH You like the other hoe that love on krenshaw sit yo basic ass down',\n",
       " ' that bitch wants everybody out though.. thats the same shit she did to me at one point',\n",
       " ' bitch I might be',\n",
       " \"RT : When someone's phone goes off in the cinema I want to jump across the seats and fly kick dat bitch.\",\n",
       " 'RT : money over the best pussy',\n",
       " 'When did gum get so soft, you sons of bitches.',\n",
       " 'the bitch loudly cheering for the netherlands at rosa mexicano does not seem to value her life',\n",
       " ' touch&#233; muzzie fuckers, hope it was set to go full of bacon and pork rinds',\n",
       " 'RT : shoutout to  bitch you guessed it remix shit is &#128293;&#128293;&#128293;',\n",
       " 'Only niggah on my TL so getting off now',\n",
       " 'With yo twatching ass bitch',\n",
       " \"That pussy can't be that hairy shit gotta stink lol\",\n",
       " '#faggots are MERELY a #scientific indicator that SOMETHING IS WRONG&gt; Do not celebrate as \"unique indiviuals\" for they are #cancer&gt;',\n",
       " ' yes I love the hair on her pussy...lol',\n",
       " 'RT :  I got 11 nuggets this time bitch. #CouldntBeHappier',\n",
       " 'got your hoe on the scroll',\n",
       " \"So far I've only seen 3 bad bitches talkn bout Mansion &#233;lan .. Wtf is up\",\n",
       " 'Cay said \"well bitch I THOT you was on house arrest so you ain\\'t walking NO WHERE\" &#128514;&#128557;&#128514;OMG I hate her',\n",
       " 'RT : BREAKING: Charlie Crist files emergency motion for a mulligan.',\n",
       " ' handles lol that shit only 315 hp now your bitch is stick soo I know was good with them double shifting aha',\n",
       " \"Kill't dat bitch &#8220;: Shmoney Bitch    https://t.co/lNQdazIjJk&#8221;\",\n",
       " 'Every time I fuck, I gotta hit me least like two bitches...',\n",
       " \" And does he know you're calling him a fag?\",\n",
       " '  give me credit lil bitch',\n",
       " 'Pillow talkin to bitches, i see her she bad but NIGGA SHE BASIC',\n",
       " 'Miss you lil bitch  http://t.co/TqmMnmkCyN',\n",
       " ' God awful, and that dude is Dorian / eggplant black.',\n",
       " ' bitch please. Not gonna happen. Nope.',\n",
       " 'Wave &#127754; or get Splashed &#128166; on #SplashGang ya bitch you',\n",
       " \"My mentions &amp; tl moving fast af sorry if I'm flooding yo shit \\nI'm lowkey tryna get off this hoe for yall\",\n",
       " 'Easy bitch how ? Lmfaoooooooooo She was my girl &#9995;',\n",
       " '   its retarded',\n",
       " 'RT :   lol aye watch to mouth, you like when I mention you faggot',\n",
       " \" just called me a basic bitch and I'm not sure how I feel about it\",\n",
       " \"I would bitch about the weather being bipolar, but I'm just gonna appreciate how nice it is instead\",\n",
       " 'This new avi trash or nah',\n",
       " \"Why don't you text your own mom, dumb bitch.\",\n",
       " 'RT : This bitch slow lmaoooooo http://t.co/oPmDp5RgLV',\n",
       " 'The rich kids of beverly hills is trash and not even entertaining trash. And why do they all look mid thirties?',\n",
       " 'Give us our credit bitch.. We went out there &amp; took that W. http://t.co/m5V4XKG7BY',\n",
       " 'Who takes mid from the best midlaner NA??? Fuckin solo Q fags.',\n",
       " \"How I'm supposed to know you not just a butch dyke if yeen got a beard, my man?\",\n",
       " \" what's this chinks email? I'm moving to China and slicing his throat\",\n",
       " \"&#8220;: back then hoes didn't want me, now I'm hot, they all on me.&#8221;\",\n",
       " 'My dick wants some pussy',\n",
       " 'RT : how do people not realize the jig ?',\n",
       " 'Hugh Heffner gonna be on Life Support, STILL gettin pussy',\n",
       " '      ape? Fuck u broke ass racist',\n",
       " ' text me bitch',\n",
       " 'You a hoe for not having deals on fried chicken ',\n",
       " \"&#128073; RT : I'd rather be called nigger than a uncle tom or a mark\",\n",
       " 'RT : If you can barely walk in your heels or your dress, bitch you are trying to hard',\n",
       " \"And remember---always be the person you're born to be. You don't have to be queer to take something from that message. #NationalComingOutDay\",\n",
       " 'Aerin told me to leave them lightskin boys alone. Shit bitch I DID &#9995;&#128514;',\n",
       " 'Black bitches be boisterous belligerent buffaloes \\n\\n#AlliterationTuesday&#160;\\n#Damnismartallofasudden',\n",
       " ' Yes you do retard.',\n",
       " 'RT : His balls ashy RT : : Real women do this http://t.co/VG5DBqH8aT&#8221; and real faggots let em do that.. Smh',\n",
       " 'How you gone wife a bitch that let niggas lick on her head in public?',\n",
       " 'RT : A girl KNOWS when a bitch likes her boyfriend &#128564;&#128080;',\n",
       " \"RT : Racist white cops arresting blacks again. Can't wait till black cops arrest whities then hear them bitch. #Fastfoodstrike\",\n",
       " 'RT : you got niggas &amp; I got bitches &#128080;',\n",
       " \"RT :  bitch I'll end your fucking life. You a fuckboy\",\n",
       " 'RT : My bitch bad, she from the island',\n",
       " ' #EarthDayNOAA \\nIs da colored folk allowed to join? Cuz in my hood folk worried about da watermelon not growin and da chicken too small',\n",
       " \"You're such a pussy &#128514;&#128514;\",\n",
       " 'I get bitches on tinder',\n",
       " 'RT : #FarewellCaptain \": What a way for Derek Jeter to close his Yankee Stadium career.\"',\n",
       " ' Now beaners drive em.',\n",
       " 'RT : Shout out to all you girls that wear those holy cross leggings but got a pussy thats full of sin',\n",
       " \"RT : . Jay; I think once someone has Alzheimer's, suffers from alcoholism and is mildly retarded, people shouldn't mak&#8230;\",\n",
       " \"Like bitch y u ain't do that in the first place?\",\n",
       " ' Starts making monkey faces behind you',\n",
       " \"RT : &#8220;: You are the biggest two faced bitch I have ever met.&#8221; You won't @ her\",\n",
       " 'stupid fucking metal bird',\n",
       " 'RT : My favorite  line so far has to be \"being blind must suck, because you can\\'t ever be an asshole.\" Made me \"ho&#8230;',\n",
       " 'Remember that fear is there to guide you, not cripple you.',\n",
       " 'RT : When the nigga with the aux cord playin some trash shit... http://t.co/o5eZd8FSq9',\n",
       " 'RT : when bitches talk about their bf 24/7 http://t.co/kDEBRyK5eR',\n",
       " \"RT : I fucked yo bitch don't get mad it's nothing new I fuck everybody's bitch #TheseThotsAreForEveryone\",\n",
       " \"I'm from #SouthChicago so I know it's bad but...bitch, it ain't like you live in Englewood #FOH\",\n",
       " \"RT : I just don't understand the grey area of being a hoe but lying about it. Like close your legs OR just be about that life&#8230;\",\n",
       " 'Gudnight keep that pussy tight',\n",
       " 'RT : &#8220;:  I SANG FOR YOU, YOU NAZI&#8221;\\n\\n*beaner',\n",
       " '  rather be an \"ultra fag\" than get an 18 on my ACT and go to FGCU #zing',\n",
       " 'RT : I just wanna get filthy rich &amp; have a nice big house full of bad bitches that I could fuck anytime I want &#128540;',\n",
       " 'You a stupid hoe',\n",
       " 'Mother b is such a bitch&#128545;&#128548;',\n",
       " 'Wiz khalifa was the most influential rapper in my era. We seem to forget all the trends this nigguh started',\n",
       " 'RT : I wanna be the reason u look down at your phone &amp; smile then a car run yo ass over hoe',\n",
       " 'Goodnight bitches (with a lisp)',\n",
       " 'Hahahaaha my teacher just realed these thots. She said \"You need to stop acting ghetto cause its not cute\"',\n",
       " 'i gotta team of hoes like pat summit..',\n",
       " ' and retarded. Love is always retarded. #sentimental',\n",
       " ' eat shit nigga bitch turd bag dick beetle',\n",
       " '    Ahmed and retard mikey for special Olympic boxing',\n",
       " ' Certainlt not the paddies',\n",
       " \" lmao don't fight me you don't know my ghetto ass school dude I highly doubt that since I don't give a fuck about it\",\n",
       " \"I swear to god I be in the middle of the club making out wit bitches like I'm tryna film a romantic comedy or somethin\",\n",
       " ' \"leave you beaner retard\"',\n",
       " 'My best friend loves Justin beiber what a fag &#128557;&#128514;&#128557; ',\n",
       " \"RT : these bitches can't do nothin for you.\",\n",
       " \"You think I'd learn by now that once red flag bullshit appears to gtfo. But nooooo I have to have faggot ass faith in people.\",\n",
       " 'RT : I thought it was raining because of the sound on the roof but it was just birds exploding from the heat.',\n",
       " 'I was a made nicca when I was a young nicca',\n",
       " 'http://t.co/bPU86qzYFt Avery &#8211; Adorable and petite red haired teen plays with her shaved&#160;pussy http://t.co/Pbu9NlxaNP',\n",
       " 'RT : &#8220;: When she waives her pussy fees&gt;&gt;&gt;&gt;&#8221; bye Lawrence &#128075;',\n",
       " 'All I ever want is for someone to love me as deeply and devotedly as Charlie Kelly loves the waitress.',\n",
       " \"I ain't bout to listen to this nigga rap about eating pussy\",\n",
       " '  crazy bitch why',\n",
       " \"I'm just tryna get to sleep before the birds start getting rowdy.\",\n",
       " 'All these ratchet hoes be on tha same stuff ',\n",
       " 'Todays Spy Ops ( A country guy with big feet. I lv to lick his soles n hv soles on my cock ) http://t.co/baEeMot812',\n",
       " \"RT : Yall act like your pussy did something magical because a nigga suddenly didn't pull out. Naw, he just didn't pull out,&#8230;\",\n",
       " \"Ain't no broke bitches standing next to me&#128564;&#128564;\",\n",
       " 'I told her too. I said \"bri don\\'t get in tweef with anyone because you\\'re trash at it\" and then she goes and tweefs with like 6 freshman',\n",
       " \" i'm so sick of self serving politicians standing by while BO trashes America. #WeAreRepublicNotRegime #ImpeachObama\",\n",
       " \"RT : I don't fuck wit fake hoes all I touch is J-Los\",\n",
       " ' bitch what but I pull more hoes the u dream of',\n",
       " 'I hate when a girls all \"I\\'m single and I do single shit (be a lil thottie) cuff me if you have a problem\" like bitch I\\'ll RKO your ass',\n",
       " 'Fake tits? &#8220;: A hoe??&#8220;: Can u guess what I was ? &#8220;: Twitpic your halloween costumes&#8221; http://t.co/ECs7nlEkKa&#8221;&#8221;',\n",
       " 'Being a sober soul just wasnt interesting.. bitch im living #5spmg #GGL http://t.co/W58Q6Hr20j',\n",
       " 'RT : I like blowing loud wit bad bitches &#128111;',\n",
       " 'Lol they tricking niccas left n right',\n",
       " '&#8220;: Imma pull up on you eat on that pussy and dip&#8221;',\n",
       " 'lmao RT : \"I\\'m 25 years old, I\\'m tryna have some fun\" = \"I\\'m a hoe\"',\n",
       " 'Good pussy change ya life &#128514;&#128557;',\n",
       " 'RT : \"Here she go being a hoe again\"-dog http://t.co/vnZ5v4VFSm',\n",
       " 'Your retarded.',\n",
       " 'is the bitch in the new transformers hot?',\n",
       " \"Ayyyyy I'm sipping on a free slurpee and seeing The Front Bottoms tonight. I'm a happy clam.\",\n",
       " '  I may have just cried a tad #illmissu shiner',\n",
       " 'Fuck dat bitch',\n",
       " '#Yankees #SEC Robertson in. Guy is fantastic. SEC pitcher',\n",
       " 'Wish  would stop being lazy and be a little rebellious. Come to Indy bitch titz.  misses you',\n",
       " \"RT : Deletin emojis off a nigga/bitch contact name cos they don't mean shit to you anymore &#128514;\",\n",
       " 'if ive ever been a faggot to you let me know and ill change :)',\n",
       " 'Damn, birds stay shitting on my car..',\n",
       " ' bitch your yuck',\n",
       " ' &#128514; wassup pussy',\n",
       " '\": #WutKinda\\n\\nr purple. Ceeeleee\"man this gurl was jus playin on the \"stupid hoe \" track. But in still shitted on sum gurls',\n",
       " 'RT : \"bitch ass nigga square up\" &#128514;&#128514; http://t.co/xK1rpf1NPy',\n",
       " 'RT : \"Gracias por jugar con el corazon, ahora a ganarle a los Yankees.\" - http://t.co/3FYTvuzNZB',\n",
       " \"When mfs tell you who you talk to and it ain't true..like no bitch\",\n",
       " 'Nigga just had them crackers on a chase.',\n",
       " ' your a cunt',\n",
       " '\" bitches get cut off everyday B \"',\n",
       " \"It's my main bitches 21st ayyyeeee  happy birthday babbbyyy\",\n",
       " 'My hoes Trippin lol',\n",
       " '  you talkinfgalot of shit but you cant back dem words up tho bitch ass nigga u not talking about fighting',\n",
       " 'RT : &#8220;: &#8220;: let me sit this ass on you &#8221;&#8221;bitch you and Chris better Gtf &#128080;',\n",
       " '\": How bout them Cowboys\" Shutup pussy',\n",
       " 'RT : Long distance sex will definitely have u thinking u like a bitch a lil too much.',\n",
       " '&#8220;: I used to be that fat bitch everybody made fun of look at me now&#8221; I was made fun of for being ugly &#128589;',\n",
       " 'RT : \": Swear AG ugly den a bitch. He look like a possum and giraffe mix breed.\" This isnt funny. But I died l&#8230;',\n",
       " ' bet.... Pay back is a bitch',\n",
       " 'RT :  ugly bitch has blood on her hands for her whore ways',\n",
       " 'Fuck that bitch',\n",
       " \"RT : Sex on 1st date dont mean you a hoe, waiting 90 days wont make you a wife, cute pics dont mean y'all happy, having a title&#8230;\",\n",
       " \"' Ima kill that pussy straight murder that shit , and Ima eat it , eat it , eat it &#1043291;&#1040788; And lick it till it slaps . Aye &#1041237;&#1041191; .\",\n",
       " '  tranny dragons, eh? I know some people that will love this',\n",
       " \"RT :  you're a fucking queer\",\n",
       " 'bitches who never knew me now calling me WesGod &#128524;',\n",
       " \"How the hell was David Murphy's hit not a home run? Clearly over the yellow line.  another umpire mess up.... Smh\",\n",
       " ' you is a hoe',\n",
       " ' ok u hav gun. I love you and you are my superior at fighting games and you probably get more bitches too. peace &#9996;',\n",
       " 'RT : bitch what you thought ? &#128514;',\n",
       " \"if you're into unlocking badges/stickers online you should have to wear them around in real life so the rest of us know what a cunt you are.\",\n",
       " 'hoes need to stay in hoes place fr',\n",
       " '\": Nd wtf is up with dark bitches with blonde.. PLEASE HAVE SEVERAL SEATS HOE\" ..looking like black&amp;milds out here',\n",
       " '    Lets hangout Monday nigs?',\n",
       " '&#8220; \": If fleek in yo vocabulary you a faggot\"&#8221;',\n",
       " \"   at the end of the day, they call yo dumb ass monkey, picka'nanny hoe. But u luv them white devils\",\n",
       " 'eagles are fucking cunts http://t.co/nK2CO0snNv',\n",
       " 'Friend zone ass nigguh',\n",
       " 'Met a foreign bitch at Wesley . &#128064;&#128064; she better call me',\n",
       " 'RT : Twitter tipped its cap to say #FarewellCaptain to Jeter in his Yankee Stadium finale. VIDEO: http://t.co/QdldmWBwXJ http://t&#8230;',\n",
       " 'Once again...HELLO HARDIN COUNTY \\n\": \"Everyone knows a hoe named Ashley\" - HSN\"',\n",
       " ' hoe b4 bros..smh.',\n",
       " 'Lol bitch u a has been',\n",
       " 'RT : Warm that pussy up',\n",
       " ' fag rhymes with gag.',\n",
       " ' geminis rule hoe. &#128524;',\n",
       " \" \\nI don't understand the need for multiple autopsies. I guess they're going to keep on until they can slant 1 against the officer\",\n",
       " 'Cancer is a hoe y\\'all pray for the people who have it. http://t.co/4XgEQMrZq5\"',\n",
       " 'Graham crackers and hazelnut coffee are my fave &#128152;&#9786;&#65039;',\n",
       " '\"It\\'s never too late to tag a bitch.\"- ',\n",
       " \"On a scale of 1 to redneck, I'm watching Days of Thunder right now. #goCruise\",\n",
       " \" and I just cleaned the entire fucking weight room. Looked like a tornado went through this bitch.C'mon franklin \",\n",
       " 'You hoes love sayin \"You think you cute huh\".. Naa, You do..',\n",
       " \"RT : What was that you tweeted? I can't concentrate enough to read it over all your sad-looking boob and pussy pics.\\n\\n-men, prob&#8230;\",\n",
       " '#porn,#android,#iphone,#ipad,#sex,#xxx, | #XXX | homemade pussy eating &#8211; http://t.co/2yuIdrLN3k http://t.co/Z8GAiWlLye',\n",
       " \" Call me bitch again and see if I don't slap the sexy out of your mom and have Justin Timberlake bring it back.\",\n",
       " \"I'm dat nigga that these hoes just can't stand... &#127926; B.G\",\n",
       " 'Am so high that birds and planes are my peers',\n",
       " 'RT : RT : Girls say bs like \"you got too many hoes\". Stop letting twitter and IG fool you. I don\\'t know these fucki&#8230;',\n",
       " ' shut the fuck up. You guys a mediocre washed basura juice. Sit down and win close games against raiders and jets faggot',\n",
       " 'Yall live for bitches and blunts. We live for weed and money',\n",
       " '\": Got bitches in the DM but I don\\'t ever read\\'em\" which is y your top 3',\n",
       " 'RT : 12 lava cakes, bitches. #RTExtraLife',\n",
       " 'Horny mature babe in a kimono has her pussy fingered and&#160;fucked http://t.co/RmAMISXW5c',\n",
       " 'RT : This is what happens when niggas gas up ugly bitches http://t.co/dfKYmADk3b',\n",
       " ' thats why youz a yellow bone &#128155;&#128155;',\n",
       " 'RT : When I say faggot it just means someone who is fucking weak...',\n",
       " 'I tell bitches I got that I.T.S ( IKE TURNER SYNDROME )',\n",
       " \"  \\nIt's a nice way of callin y'all honkies\",\n",
       " \"&#8220;: Make the most of what you have.&#8221; Don't tell me what to do bitch\",\n",
       " 'RT :  we find turtle; we find the hoes',\n",
       " '   \\nThat bastard Obama is giving them to the f-ing wetbacks.',\n",
       " ' An end to the ordination of women and faggots, whose only aim is to weaken and split our communion.',\n",
       " 'My blue flag brite nd ya bitch blowing me like play bagpipes',\n",
       " \"&#8220;: No yu can't get no money yu silly hoe...&#8221;\",\n",
       " 'RT : when you see a hoe talking to bae but she not even on your level http://t.co/DphkPab4c7',\n",
       " 'Thought I told you not to trust these hoes',\n",
       " 'Get your weak ass juco highlights off twitter hoe',\n",
       " '  tranny',\n",
       " 'If you got tats on your breast, you a trash ass bitch and stay far away from me with Ya acid pussy.',\n",
       " '  Slide up on a bad bitch/Dat bitch look good',\n",
       " 'These niccas want war give me what you got #WeTheLastOnesLeft #UMightNotGetIn #BeerandTacOS http://t.co/xwTa1PUDZU',\n",
       " 'RT : If I see a bitch coming at me like this , that mean I got 1.2 seconds to get up and get right &#128514;&#128514;&#128514; hoethea sat there http:/&#8230;',\n",
       " \" sweetest bitch you'll ever meet\",\n",
       " 'RT : &lt;----- not buying bitches vehicles',\n",
       " 'you worried bout other bitches, you need me for?',\n",
       " \"I don't want a bitch that a nigga already had I want sumn new ... Or a runner it's too easy nigga I accept the challenge\",\n",
       " 'Corey is trash',\n",
       " 'RT : You fuck a girl longer then 30 min &amp; you still aint bust...she gotta busted loose ass pussy...',\n",
       " ' that was so gay. And I was tanning bitch. Juvie made me white',\n",
       " \"If you hang with hoes, you're a hoe by association. If you try and debate this, you're a hoe. If you get offended by this, you're a hoe.&#128175;\",\n",
       " \"RT : Get real & fucking fight or don't play me. I don't play with pussy ass niggas.\",\n",
       " 'I\\'m dry humping hoes tonite bussin on they costume so they man deal wit em later. RT : Somebody girl gettin fucked tonight\"',\n",
       " 'Somebody couldve been like \"aye man you dropped your money\" but nooooooo fucking broke faggots selfish bastards i hate yall',\n",
       " \"RT : &#8220;:   fucking pussy that's why&#8221; exactly. Let me @ the nigga  were talking about &#8230;\",\n",
       " 'You hoes complain too much.',\n",
       " 'My dick, your bitch on it.',\n",
       " ' shoulda came to bird mans that shit was so lit',\n",
       " 'RT : Chael P suplexin motherfuckers on their domes and shit',\n",
       " ' honestly the performers on there red carpet were trash hahahaahahahaha',\n",
       " \". Hey you race baiting FBI informant bitch, where's your punk ass speaking for justice on this? http://t.co/3OcxPxlYdt\",\n",
       " 'Like bitch &#128171;',\n",
       " \"they say you going too hard just rest ya eyes &amp; I'm just like why? bitch I ain't never seen Ben Franklin sleep\",\n",
       " 'Talked to Deigo last night my dawg good like that bitch Maegan',\n",
       " 'Gettin bitches was never hard I just settled down cause that start got corny an my girl thurl &#128175;',\n",
       " 'Lmao RT  If u live wit ya girl and u do dishes u a faggot',\n",
       " ' happy birthday bad bitch',\n",
       " \"&#8220;:   yeah he lowkey loves me he knows he's ma nigga &#128076;&#8221;we don't love these hoes\",\n",
       " ' #Allah can KISS MY ASS\\nAnd yes, MUHAMMED was a bitch Just like OSAMA BINLADEN',\n",
       " 'RT :    they are both bitches.',\n",
       " '  *too pretty...not *to pretty. Jeezus...my redneck education is showing.',\n",
       " 'Arroz con pollo',\n",
       " 'RT : My idea of a diet is eating regular Oreos instead of double stuft and takin off half the cookie (still dip it in 2% ...',\n",
       " \" That's how rednecks eRecycle. http://t.co/6LRXIqSi8B\",\n",
       " 'RT : Also as part of my release day gift (yes, we get those) this adorable bumblebee bear #Montlake http://t.co/SC3AjXCiRB',\n",
       " 'http://t.co/bPU86qzYFt Cassie Laine &#8211; Brunette slips off her lingerie and massages her wet pussy with&#160;oil http://t.co/rMqKLh1AeZ',\n",
       " \" nigga you beat who ass bitch we've never even fought so u need to stop making up shit and bring yo ass with them\",\n",
       " \"not that it's tit for tat...\\n\\nbut we don't say shit to our boy just like you don't check that insufferable bitch you call a best friend.\",\n",
       " '  faggot scoon you wanna ball?',\n",
       " \"RT : Welp RT : The girl of your dreams is a hoe and the guy of your dreams ain't shit. Facts of life\",\n",
       " 'RT : \": I think my wish came true, where y\\'all hating ass bitches at &#128299; http://t.co/so4coPPpU9\"oh nahhhhh',\n",
       " \" fag that's some gay ass shit\",\n",
       " ' you ah lien ass hoe',\n",
       " 'RT : if I got hoes.. @ one of my hoes.. if not shutup &amp; never say it again',\n",
       " 'Did he say wayne chung bitch ?',\n",
       " 'RT : Poll: Florida Governor Rick Scott is leading Charlie Crist by five points. http://t.co/W2Kkny4Nvy',\n",
       " '\": Fit lads Nice gear http://t.co/ThnXX1lC1M\" these scally lads n trainers would get it',\n",
       " 'I know bitches be mad as shit when they friends borrow their clothes &amp; its a bunch of girls in her IG comments sayin how cute the outfit is',\n",
       " \"Allergies have my eyes all red and chink eyed, I look like I'm stoned\",\n",
       " 'RT : Never snapchat will bishop. He is a screenshotting son of a bitch',\n",
       " 'RT : US ghettos-driven by liberal ideology; forged by unions &amp; bankrupted by self-serving Dems catering 2parasites #tcot http://t&#8230;',\n",
       " ' I slid in your DMs so answer me bitch',\n",
       " \"Yeah I can just tell by the weather that I won't be gettin any pussy today\",\n",
       " '&#8220;: &#8220;:  &#128514; nah lemme chill i love the bitches&#8221;&#128557;&#128557; like trick love the kids&#8221; &amp; you know this &#128514;',\n",
       " \"He's making sure if it's ok for the bitches http://t.co/wE7OBTKetB\",\n",
       " '#DegenerateArtist Sniffs whiffy balls involuntary, cuz a FAIRY walks DOWNTOWN HAIRY, #climatechange all our scary sense of hillbilly sneeze&gt;',\n",
       " \"Hell I believe you tooRT :  lol I still look good I'm smaller than half these hoes\",\n",
       " ' August is trash',\n",
       " ' bitch whatever nigga u were to scared to play',\n",
       " ' &#128514;&#128514; my fault it sound like it fucc nicca',\n",
       " \" damn your bitch really hoe'n for the F\",\n",
       " 'RT : \\'che wigga RT \": If she puts up with you it\\'s because she loves you, now make it worth her while&amp; love her back&#8230;',\n",
       " 'Bet Charlie Strong has contacted Ridley',\n",
       " 'RT : Just saw someone riding a bike while wearing camo, the bitch is asking to get hit',\n",
       " \"RT : Jd told me I'm to player to be with one bitch\",\n",
       " ' that nigga spun around in the pussy.',\n",
       " \" wrong maybe you been dealing with pussies but I don't put up with that crap. If I f*** up telling me I f***** up. Keep it real\",\n",
       " 'RT : Hit the bitch nd forget the bitch, but i left my kids on her fuckin face',\n",
       " 'So fucking thirsty for a championship that they welcome a fucking traitor with open arms.... Haha fucking no heart ass pussy organization',\n",
       " 'I will not leave my nigga but you can be my bitch too #idgt &#128526;&#128175;&#128074; http://t.co/EXJvKjcXEZ',\n",
       " \"RT : RT if you'd marry Scarlett Johansson http://t.co/KMoJDDIl7h\",\n",
       " \"You got niggas and I got bitches.\\nPARTYNEXTDOOR ain't never lied.\",\n",
       " 'I feel like a bitch that just got her heartbroken a day before her wedding',\n",
       " \"People talk shit on Twitter but when they see you in person be looking. Like bitch wtf you looking at. Yes its me, yeah I'm cute..\",\n",
       " 'I told that bitch IDGAF about a Benz, bitch',\n",
       " 'RT : Hate basic bitches,',\n",
       " \"Lex Steele I know y'all know him he been knocking hoes off for years and moaning in the process http://t.co/iz75peY71Z\",\n",
       " 'Lesson: #NFL is 4 heterosexuals. Wat else do we need besides Michael Sam for us fags to get a clue. Breeders have their thing we have ours',\n",
       " \"RT : If you open a beer and don't finish it you are what is known as a little bitch\",\n",
       " 'Taught me how to hate a bitch',\n",
       " 'Sum of y\\'all kno y\\'all be on lock but talking bout \"bitch I ain\\'t doing shit tonight ho I\\'m tired\" &#128514;&#128557;&#128514;&#128557;&#128514; http://t.co/H5P2YxSu1h',\n",
       " 'RT : bad bitches http://t.co/jz9ItvJck0',\n",
       " 'Good morning coons.',\n",
       " ' they are little bitches when they are proven wrong. #MomsDemand #gunsense',\n",
       " '#vegas #bitch http://t.co/wbAqQ5vFpd',\n",
       " '\": These hoes is crazy\"',\n",
       " '\"I heard you was looking for Candy Man, bitch\"',\n",
       " '  you watching this trash?',\n",
       " ' and getting pedicures bitching bout their ex and going tanning is something a bitch does',\n",
       " \"cheeky lol RT : I want those all black and yellow 95's again... ughh I &#9825; those\",\n",
       " \"RT : In 5 years these hoes ain't gone be shit but a Dick head\",\n",
       " \"RT : Somewhere out there, a redneck is jerking off with a hand he'll lose in a firework accident tomorrow.\",\n",
       " 'Yo bitch on my dick she come to my crib she get passed around no love',\n",
       " 'Clown ass nigguh',\n",
       " ' lol to get the yellow bleach stain out use a baking soda hydrogen peroxide paste on the stain and throw in the washer',\n",
       " ' here it\\'s a \"wtf dude are you fucking retarded\"',\n",
       " \" chad reeds a fag he's a 5th kinda guy\",\n",
       " '  trash',\n",
       " 'RT : Every nigga\\nNew hoe is \\nDa next niggas old hoe',\n",
       " 'RT : Twitter jail is pointless your suppose to tweet , they need instagram jail for hoes doing Shout out for shout out all fucking d&#8230;',\n",
       " 'This hoe reathie be tripping &#128514;&#128514;&#128514;&#128514;',\n",
       " 'I picked Welbeck for my team. I have to be some kind of cunt yes',\n",
       " 'RT : Wanna know if a bitch hygiene up to par. Wipe behind that bitch ear and put it to her nose. If she flinch.....you got ya&#8230;',\n",
       " \"I'm gonna be ghetto and color over the stain with a sharpie ctfu\",\n",
       " \"RT : If unfollow me you're a little bitch cus you couldn't handle my tweets lol\",\n",
       " ' fasho fasho .. Hurry ya ass up nicca',\n",
       " \"How do you photoshop yourself and still be ugly? That's like cheating on test and still failing... Be ashamed bitch\",\n",
       " 'RT : reasons to be a mermaid:\\n\\n- no periods\\n- no pants\\n- perfect hair\\n- u get to lure men into their death\\n\\nalso, free clam&#8230;',\n",
       " ' Johnny football is trash man. Trash. Lol.',\n",
       " \" when you realize you're trash\",\n",
       " \"RT : Gwen Stefani's new single is trash. her, hilary duff, britney and fergie have to give it up and go raise your kids and judg&#8230;\",\n",
       " 'bitches love good morning posts',\n",
       " 'I could say my name butttttttt, ya bitch already knows it &#127926;',\n",
       " 'Popcorn and candy for dinner. I always knew Charlie Brown was my spirit animal.',\n",
       " 'Some lying ass hoes lol',\n",
       " '\": \"At least I\\'m not a nigger\" http://t.co/RGJa7CfoiT\"\\n\\nLmfao',\n",
       " ' #fag\\n Fuckin pirelli tire black ass nigga whit a white boy shirt on but my nigga did loosen up a lil bit.#bowbow',\n",
       " 'Ha bill bellicheck wouldnt give an interview what a pussy Hey bill karmas a bitch',\n",
       " ' pussy shit',\n",
       " 'RT : Who gave this bitch THAT much confidence? &#128530; https://t.co/TvMu2oYJQx',\n",
       " 'RT : When an irrelevant bitch dislikes u for no reason &#128133;\\n http://t.co/sM1rsmOLEZ',\n",
       " \"RT : Every girl sucks dick. Don't let that bitch fool you.\",\n",
       " 'Apparently not wanting to trade your Nitro M4 in CSGO makes you a collossal faggot.',\n",
       " '&#8220;: What&#8217;s going to be your pick for #SelectionSunday? #2for5 #WatchLikeaKing http://t.co/aBam30gSk4&#8221;\\n\\nDis make colored folk happy',\n",
       " \" AS IN&gt; #nature #biology&gt; Dogs don't eat each other as much as birds do. Not everything is as it seems in human terms.\",\n",
       " \"  I wasn't serious bitch &#128514; bitch them niggas i named ain't fuccing witcho ass &#128514;&#128557; we all just making shit up &#128527;&#128553;\",\n",
       " 'Charlie Baltimore look good for 45 &#128563;',\n",
       " ' not funny u faggot',\n",
       " \"All these bitches wanna be like Kim K and fuck their way into being rich but it don't work like that. Get a degree &amp; work a desk job you hoe\",\n",
       " 'Blatt trash too ... but twitter said he was good',\n",
       " ' hey Hun',\n",
       " 'Choate Chokes On Twinkies&gt; All the damn time I bet. #lol #Cardinals',\n",
       " '\"captain save a hoe\" is the most annoying phrase',\n",
       " '\"These hoes ain\\'t loyal\"',\n",
       " ' fucking block your white ass because you try to start shit like a fucking queer so fuck you NIGGA',\n",
       " 'RT : This assholes mother should have shoved a coat hanger up her pussy &amp; gouged him to death when he was a harmless fetus http:&#8230;',\n",
       " \" your so fucking ignorant u talk a lot shit for someone who don't wanna fight your mama raised u as bitch huh?\",\n",
       " 'If a teacher gave me some pussy in elementary school I got to tell somebody.',\n",
       " '#porn,#android,#iphone,#ipad,#sex,#xxx, | #Korean | korean girlfriend pussy http://t.co/Od1MQUudnN',\n",
       " ' your daughter can date this little fag bag   http://t.co/4SabX0mcus',\n",
       " ' bro this bitch really stood there and was like you gonna give me my penny?',\n",
       " 'if ah nigga beefing wit u dey gon try to fuck ur bitch just to kill u slower....',\n",
       " \"&#8220;: I tend to have more sense that bitches older than me. That's sad.&#8221;\",\n",
       " 'Somebody toss this bitch a Dasani or something, gurl is #THIRSTY',\n",
       " '  An enraged 6\\'4\" 290 lb Mike Brown lethal weapon on legs.His hatred 4 the police &amp; whitey added fuel 2 his arsenal',\n",
       " 'RT : Maury 70 years old still exposing hoes',\n",
       " '&#8220;:  because I thought Jay Z would hit her&#8221; yeah he is known for sockin a bitch or 2',\n",
       " ' oh but I am and my grades say other wise so u can stfu and get off my Twitter or u can box simple ass that pussy boy',\n",
       " \" no wonder your career is in the dump that's where trash like you belongs. Thanks to  for pointing out your true colors\",\n",
       " 'Well done? What a coon.',\n",
       " ' says the pedophile promoting dolt. LMAO #teabagger',\n",
       " 'RT : Vonte not tweeting like a bitch finally',\n",
       " \"Them old bytches sorry as phuck in the sack... &#171; The pussy get ripe in her 30's&#187;\",\n",
       " '85 species of birds reported in Chesterfield for the Great Backyard Bird Count. How many in your area? http://t.co/VIWMjjJxOT',\n",
       " 'RT : Fuck bitches, get touchdowns.',\n",
       " 'Its funny how these hoes will be texting yo phone all day and then 3 days later have a boyfriend &#128514;',\n",
       " 'swat to the twat',\n",
       " '&#8220;: Fuck all the Heat bandwagon riders... We know who you are&#8221; u sound like the hoes mad they man cheated with a fat booty bitch',\n",
       " \" \\nI wonders why dare ain't no colored folk up dare?\",\n",
       " 'RT : Shawty said you not gone understand america unless you went to a PWI school, crackers already brainwashed her smh lol',\n",
       " \"RT :   Gee isn't cracker a racist term? So tired of these race baiters.\",\n",
       " 'RT : Good pussy takes your mind off the struggles and stresses of everyday life',\n",
       " \"RT : &#8220;: Broke hoes always wanna argue u ain't ate all day were u get that energy from &#128514;&#128514;&#8221;RT&#128514;&#128553;&#128175;\",\n",
       " \"RT : &#8220;: Mo Claiborne is so trash&#8221;I can't say it enough fam &#128530;\",\n",
       " \"So now ain't nobody got a type you all like bad bitches huh...well why yo baby momma never mind\",\n",
       " \"' Ima young rich niggah Tryna fuck a niggah bitch , My ex a rat the Naybahoods be fuckin on that bitch &#1041204;&#1041204; , I... http://t.co/hFnSbuPwma\",\n",
       " '   joey r u a retard its about the defense and we only allow an avg of like 10 point so u really need to',\n",
       " \"These hoes ain't loyal...\",\n",
       " 'So people here donate plasma to feed their drug addiction... I donate because I get money, and I save lives.\\n\\nWhaddup bitches &#128129;',\n",
       " ' chase you God damn faggot &#128514;&#128557;&#128514;&#128557;',\n",
       " 'RT : Getting ready for the annual heart and sole luncheon  #cle with  http://t.co/UJ721FmsXB',\n",
       " 'RT : Nigga when from \" Can I get a hug\" to\\n\"I got hoes b \" http://t.co/ACLiqHQ5PV',\n",
       " \" But then you have no idea what people's actually personalities are like maybe Pamaj has always been a cunt hahaha\",\n",
       " 'RT : &#128064;&#127939; \": Does SZA have freckles on her pussy too?\"',\n",
       " ' stank ass hoes haha',\n",
       " 'RT : teacher: eyes on your own paper\\n\\nme: bitch i only have eyes for da paper\\n\\n*throws cash everywhere*',\n",
       " \"So I've been pretty paranoid about the cooling weather bringing about an abundance of birds in Austin, NYC and Philadelphia.\",\n",
       " 'RT : &#8220;: What yall up to&#8221; &#8226; beatin my meat on FaceTime wit a bad bitch http://t.co/Dwdg7DNWxw',\n",
       " \" I love laying in bed by myself because I have a twin size bed and bitches be takin up 3/4 and I ain't havin that\",\n",
       " 'RT : This hoe swear to God that boy fuckin everybody..',\n",
       " '\"Remy Machiavelli send shots to ya belly\" &#128553; my bitch &#9994;',\n",
       " 'Got your bitch with me right now.',\n",
       " 'Matt got the shades on tryin to scope a bitch http://t.co/Ywaq3Hg0WF',\n",
       " \" don't be a bitch. Get two.\",\n",
       " 'RT : Stop fuckin with a \"take me out somewhere\" type of bitch...\\nGet you a \"baby I cooked for you\" type of chick &#128525;&#9749;&#65039;&#128056;',\n",
       " 'RT : U a nurse &#128514;RT :  you a clown boy You music is trash.... I dare you say something back I bury your Bit&#8230;',\n",
       " 'Skylar needs to go back to Clarenceville. He taking all the hoes.',\n",
       " \"So let's see what you look like in the AM without the 10 filters and colored contact lenses, your followers are dying to know \\n\\n\",\n",
       " \" would help for some others can't handle uppers and cripples them plus if moderation isn't taken into consideration it'll be bad\",\n",
       " 'If ur bitch starts fukin yappin tae, ill make sure i break something vital. Warning: call polis with hazard that results in permanent damage',\n",
       " \" and btw don't ever bring up past hoes wit yo ol lady I took that L in HS tryna be semi honest smh\",\n",
       " 'RT : &#8220;: &amp; you guys thought sharkiesha and shovel girl were crazy.. she snapped this bitches nose. https://t.co/5&#8230;',\n",
       " 'Yall hoes got nothing better to do than to gossip and play telephone.',\n",
       " \"There's other bad bitches &#128514;&#128514;\",\n",
       " 'Tonight. My sole purpose is to be thoroughly intoxicated. Night off and no class In the AM. Maybe I deserve it',\n",
       " 'why did the fins sign finnegan? hes a certified bitch',\n",
       " \"RT : I can't fuck with sentimental bitches.\",\n",
       " ' I know, all the bitches love me&#128129;',\n",
       " 'I wonder where all these bitches I got at ?',\n",
       " ' how many times did you listen to that pussy song today?',\n",
       " ' aoas you write back bitch lol',\n",
       " ' Hats on us not trash tho lol',\n",
       " '#porn,#android,#iphone,#ipad,#sex,#xxx, | #Japanese | Young Japanese girl&#8217;s hairy cunt creampied http://t.co/rg3PObaKKD',\n",
       " 'This picture on Weibo made China\\'s censors add \"big yellow duck\" to its list of banned terms &#8594; http://t.co/87NSk91rJR http://t.co/j3aAKxwIfe',\n",
       " 'Do you know where I grew up Skippy?     ',\n",
       " 'My phone on 10% fml I still gotta get to the yellow sign lol #motivation lol btw I zoomed in 2x lol http://t.co/LayVBieIML',\n",
       " ' clever monkey',\n",
       " 'RT : shhhh&#8230;\\nwrap yourself around me\\nlet me kiss the bruises on your heart\\nlick your unhealed wounds\\nand taste the raw wild ho&#8230;',\n",
       " 'The Karate Kid is such a pussy',\n",
       " ' niccas dnt kno bout da art of finessin',\n",
       " \"RT : Fuck you bitch I'm actin brand new &#128526;\",\n",
       " 'RT : this the \"I play soccer, cheat on girls, and wear khaki coloured cargos\" haircut http://t.co/rJVOVoO53l',\n",
       " 'Eh bitch? How about you worry about your own psychotic ass. Looks like you need to \"be saved\" from being a noisy bitch &#9996;&#65039;&#128139; #cantStandUcunt',\n",
       " \"You can't be mad when people call you a hoe if you out here acting like one\",\n",
       " 'RT : I aint got no problem chicks goin on vacay to the states to be hoes. Just declare ya AIDS at the border when ya come back',\n",
       " '\": Baby albino &#128034; http://t.co/2tYTQJ3fec\" ',\n",
       " 'In elementary school I tied a girl to the tetherball pole with the tetherball cause she was bein a bitch.',\n",
       " 'I miss my fag friends',\n",
       " 'RT : THIS is how you honor\\nNative Americans. #changethename #HTTR   http://t.co/23VGQvEHy5',\n",
       " \"pull out my bank roll on y'all bitches like whoa\",\n",
       " \"Maybe if you weren't such a conceited bitch more people would like you.\",\n",
       " '  long tittie no nipple havin ass bitch',\n",
       " \"RT : y'all gotta stop pumping these ugly hoes heads up &#128567;\",\n",
       " \"I'm just on this hoe to laugh\",\n",
       " 'Fresh Japanese model toys her succulant pussy until she&#160;cums http://t.co/epBa8t5AFI',\n",
       " \"RT : That guy who you're so into and who is constantly an asshole to you doesn't give a damn about you beyond ur pussy\",\n",
       " \"&#8220;: Saw a homeless man sleeping in a box surrounded by bubble wrap. Must be his new alarm system.&#8221; You aren't even FUNNY bitch\",\n",
       " 'RT : These hoes lying and olivia will get to the bottom of it. #ScandaI http://t.co/sUZI8LOAoe',\n",
       " 'Reathie phone jumping out the gym finna cut this bitch off',\n",
       " '  people gotta bitch about something.',\n",
       " 'I hate \"chunky\" pasta sauce. KEEP PESKY VEGETABLES WAY FROM ME',\n",
       " '   shut yo cracker jack buck teeth ass Am a native and a nigga the best kind',\n",
       " 'niggas stay with insides over some hoe shit',\n",
       " 'Just lets you know we all self conscious even the pretty bitches',\n",
       " '#IU 8 straight nation #college soccer champions Wow #hoosiernation #hoosiers &#9917;&#127942;',\n",
       " 'RT : RT : when you tryna get bitches on LinkedIn http://t.co/UW3R0sNjvk',\n",
       " 'I be waking niccas up lol',\n",
       " ' Knocked that bitch soul out her body lol',\n",
       " \"Chill, I'm not a coon RT : Sick of you fake bougie ass coons lol\",\n",
       " '  Brah *falls out* white bitches crazy',\n",
       " \"Ain't fuckin wit nomore hoes got who I want &#128586;&#128564;&#128524;&#128143;&#128145;&#128175;\",\n",
       " 'Lmao shorty twitter name is pussy 2 chubby...lmfao im dead',\n",
       " 'I jus wanna watch this last episode of orange is the new black but Netflix jus wants to be a bitch &#128530;',\n",
       " 'Thw White Iron Band plays this weekend in Fargo,ND at the Aquarium(21+) ,Friday(10-29-10) with Charlie Parr. The next night,Saturday...',\n",
       " ' ...you are a lazy redneck. Get back to work governing. Stay off twitter with your lying bullshit....#stockmantheliar',\n",
       " ' #Savages \\nDay is like coloreds dat wrap day hoes like mummies',\n",
       " 'Caleb needs to stop being a little bitch.',\n",
       " 'RT :  bitches love us lol',\n",
       " 'RT : bette fucking davis eyes bitch',\n",
       " \" bitch I'm not coming no more you said your making plans \",\n",
       " \"RT : &#8220;: If you ask me, every bitch gay&#8221; not me I'm all sexual\",\n",
       " \"Looked like you but at the same time looked like some biker bitch or punk rock bitch from a 90's movie\",\n",
       " 'These bitches crazzzyyyyyy',\n",
       " 'RT : 30 bottles  30 bitches ',\n",
       " 'She said to bring a bitch of mine &#128514;done &#128514;&#128514;&#128514;',\n",
       " ' birds of a feather. You stand with PETA. I stand with sanity.',\n",
       " \"RT : Sex on 1st date dont mean you a hoe, waiting 90 days wont make you a wife, cute pics dont mean y'all happy, having a title d&#8230;\",\n",
       " \"&#8220;: Bad breath ain't cute not even if you a so called bad bitch and it's usually cause by a shitty attitude&#8221; unk ain't ever lied\",\n",
       " \"RT : I'm having a date at Yankee Field then getting kiss cam.. #bucketlist\",\n",
       " ' No good options left indeed. This president makes Jimmy Carter look like a piker. So sad.',\n",
       " 'Elizabeth is a stupid hoe',\n",
       " 'RT : \"That shit can break you down if you lose a good girl, I guess you need a bad bitch to come around and make it up\"',\n",
       " '\"Niggas be pressed for pussy, Eeeeeen nothin\"',\n",
       " \"The Republican Lt Governor of Missouri says he's sorry he called LAW Anglo-American Law. Racist Pig That he is...\",\n",
       " ' cuz I was gunna smoke u out today. U a bitch tho',\n",
       " \"There's like one of my ex's that's still kinda cute. Most them bitches got fat.\",\n",
       " \"&#8220;:  it's cute af bitch&#8221;&#128514;&#128514; I believe u It's jus getting pAss trusting u wit a needle to someone head&#128114;\",\n",
       " \"Since a lot of you lil bitches wanted to add the 5h hashtag into all my tweets I'll do that shit back #vote5sos\",\n",
       " \"RT : she's a hoe, she's ugly, she's a bitch, she's this, she's that .. but you dated her? please, take a seat.\",\n",
       " \"RT : Y'all bitches got to learn the difference between like and love\",\n",
       " 'I got a surprise for you bitches',\n",
       " '   Bernstine is Chi Sox Jew fag.',\n",
       " 'RT :  Trying to cat fish me, like nuh uh bitch get in the back.',\n",
       " 'Fuck this bitch idc #TGIF',\n",
       " ' everything but im outside come get this bitch',\n",
       " \"RT : When a bitch tell me I'm ugly &#128514;&#128514;&#128514;&#128514; http://t.co/o9EkMrw5WK\",\n",
       " ' be gone my nigguh',\n",
       " \" Scores don't matter in Spring Training man\",\n",
       " 'Geeked out my mine I think this bitch done stole a 50',\n",
       " '   Nah, they would probably call you out for being the obsessed faggot you are also. Nice try though.',\n",
       " ' bitch get that job first.',\n",
       " 'RT : On set of #BlueBloods. Hoping there are no birds perched above me... http://t.co/oDhq52QiLe',\n",
       " 'RT : Damn, I got bitches *kanye voice*',\n",
       " 'RT : When Kendrick Lamar said \"I call a bitch a bitch, a hoe a hoe, a woman a woman.\" I knew he was onto something. He was pre&#8230;',\n",
       " \"RT : What's the difference between a main &amp; a side bitch ?? Shit y'all both getting feed lies &amp; dick\",\n",
       " 'Half these females with these twitter names like \"eat my pussy\" ain\\'t even about that life bro..',\n",
       " 'RT : Jeff Fisher saved by the refs. That was karma, but the zebras messed with it.',\n",
       " 'Big Red and fat squaw ...lol my hubby is so funny #insidejoke',\n",
       " 'remember when the dude who played young ned followed my youtube channel. this was when i actually used my youtube for more than favorites',\n",
       " 'Im the man around this bitch baby check out my wrist watch &#8986;&#128130;',\n",
       " 'Minus all the retarded poor bots.',\n",
       " ' I have class nig',\n",
       " \" Are we doing Mad Libs now? Cool. Uh... \\nTwinkie 35' long, DJ Pon3 cameo, Magic&#8482;, Crystal Tree. #TNGSeason4Finale\",\n",
       " ' &#128514;&#128514;&#128557;&#128557; since day 1 u remember tha bitches in alabama lmfaoo #BIG',\n",
       " 'RT : THOT is a childish word&#128076;Grow up and call that bitch a hoe.&#128514;',\n",
       " \"Honestly at this point I doubt I'd fuck Miley Cyrus anymore that bitch is a mess.\",\n",
       " \"I'm a redneck, but without the homophobia and racism\",\n",
       " 'same hoe that said i couldnt get it tryna kick it',\n",
       " \" I know, bitches. Let's do something this weekend. Let's bake\",\n",
       " \"RT : &#8220;: When you ain't had pussy in a hot minute... http://t.co/uidvqXugE2&#8221; OMM &#128514;\",\n",
       " 'A squad of dyke cholas fear nobody. They worse than the cartel',\n",
       " ' hahahaha youza fuck wigger',\n",
       " 'RT : *Goes to Yankee candle*\\n\\n*buys beer scented candle*\\n\\n*goes home, lights it* \\n\\n*waits for a boyfriend*',\n",
       " '&#8220;: Bro like I really enjoy like eating pussy from the back... It makes it more nasty, I like nasty haha &#128520;&#8221;you like eating ass 2',\n",
       " 'Shylock &amp; Wongs: 3 Incidents of Democrat Bigotry In 3 Weeks - Media Mum http://t.co/iX03VrK0KI via ',\n",
       " 'Fuck her pussy &#127797;&#128049; fuck her mouth &#127797;&#128069; fuck her ass &#127797;&#128052; cause she nasty',\n",
       " 'Got damn the Lakers trash....',\n",
       " 'RT : &#8220;: I just fucked the life out this bitch &#128514;&#128514;&#128514;&#128164;&#8221;&#128514;&#128514;&#128514;',\n",
       " \"You ain't got no job, no diploma, no money, bitch at your parents when they don't give you money for weed, yet We need to act like adults??\",\n",
       " 'We need a UT expose hoes page hmmmmm ',\n",
       " 'RT : Niggas Stop giving these hoes Attention How About retweeting True beauty instead of retweeting these half naked MF.',\n",
       " 'Cheese bitch chupacabra looking fuxk http://t.co/gWhNZ0JCb1',\n",
       " \"Niggas at the march looking for hoes, &amp; they out there too I'm sure of it\",\n",
       " \"I'm no pussy, but ur still a dick.\",\n",
       " 'RT : drinking\\nto the last drop\\nwashing teapot \\n#haiku #mijikai',\n",
       " 'I bet we are gonna see 3 game loan player reviews too just because people are that much of a cunt',\n",
       " ' uhh no bitch I never overplayed itv',\n",
       " 'He got hoes for sell Shop with him #lmfao #TrekGang http://t.co/iuCM6OEVy3',\n",
       " ' bitch been on there for ah mintue cdfuuuu',\n",
       " 'Angel stop rting that fugly bitch',\n",
       " 'Jihadis specifically asking for international schools in #Saudi to be targeted #RealThreat http://t.co/NV5qbZaviv',\n",
       " 'RT : &#128557;&#128557;&#128557; RT : Damn it RT : &#9996;&#65039; RT : Once or twice is cool but damn bitch http://t.co/WTDCShx&#8230;',\n",
       " '&#8220;:  &#128175; what u did Mr bitches&#8221; &#128514; stop calling me that but I balled',\n",
       " \"I can't argue with a bitch over a nigga...\",\n",
       " 'A girl knows when a niggah just trynna fuck .',\n",
       " 'RT : A penis lives a sad life: His hair is a mess, his family is nuts, neighbor is an asshole, best friend is a pussy and owne ...',\n",
       " \"Yeah it was a great one actually, I'm fucking hilarious bitches &#128129;&#128536;\",\n",
       " ' this bitch look like a fucking white trash Trailer park queen lookin man bear pig. http://t.co/fqyXLJYIET',\n",
       " '#DUH : That\\'s because they\\'re possibly tucking a penis \": This bitch got man boobs http://t.co/VJvXwLrJoP\"&#8221;\"',\n",
       " '  real Serious in CT Bunch of whiney cunts',\n",
       " 'Aghh I took my 15minute break to relax for a bit, not to here this bitch yell&amp;complain &#128530;',\n",
       " '#FireCashman Why?? Because I am having to root for the Royals in October. #Yankees',\n",
       " 'RT : Some pussy be so wet &#128166;&#128167;&#128166;&#128167;you gotta think about other things not to cum fast.... like \"damn i really failed the 6th grade\"',\n",
       " 'RT : If I see a bitch walking around wearing what Rihanna had on ima grab a titty and hoe I dare you to get mad, we can fight ab&#8230;',\n",
       " \"They slut for me they kill for me they steal for me and of course it'll be yo cash and I'll murder that bitch send the body back to yo ass\",\n",
       " \"RT : don't EVER be ashamed of who you are. \\n\\nunless you a hoe... \\n\\nthen be ashamed bitch.\",\n",
       " 'I hate all these industry fags. I hope they all get the Nigerian Summer Flu',\n",
       " \"It ain't nothing to cut that bitch off\",\n",
       " ' yall defense too trash for that &#128514;&#128514;&#128514;',\n",
       " 'So my dumb ass screams fuck the redskins in this big ass echo filled parking garage',\n",
       " 'This bitch Gmfu.',\n",
       " 'RT : Suck my dick bitch RT :  not only are you terrible. You are why hip hop is dead',\n",
       " 'RT : \": &#8220;: Not looking for love, one day it\\'ll find me. Until then.....&#8221;Keep fuckin dese hoes&#128540; yolo\"&#128553;&#128514; I ain&#8230;',\n",
       " 'Cute Japanese teen gets her tiight pussy fucked while sucking&#160;cock http://t.co/ayLKdSNKsc',\n",
       " 'Them Bad bitches blow kisses by my earlobe',\n",
       " \"Broke pussy boy Deion's record.\",\n",
       " \"This bitch showed me IT &amp; if y'all every seen that low budget piece shit that muthafuckin clown scary then a hoe\",\n",
       " 'When its hot i wear whatever lol shit if could come out this bitch in briefs i would',\n",
       " 'RT : i can do somethin good but im always gon be a \"wetback\" coo.. &#9996;',\n",
       " 'RT : Go die in a hole bitches &#9996;',\n",
       " 'Or she just cant afford winter clothes RT  Summer hoe = winter Muslimah',\n",
       " 'RT : Pakistani Christian Couple burnt alive in Kasur Punjab http://t.co/JRxpbsL05Y\\n  \\n  &#8230;',\n",
       " ' sameeee bitch asss lol',\n",
       " \"Fuck you niggah I'm cold &amp; my aunts said no more throwing people in so I'm going to take a shower &#128524;\",\n",
       " '\"I have this lady-love\\nShe\\'s married, but I still wanna bang her\\nShe won\\'t have sex with me\\nWhat a bitch\" ~A troubadour, probably',\n",
       " ' Cowboys fans are cunts? Stop the presses',\n",
       " 'They say our state bird is rare...I literally see one at least once a day',\n",
       " 'RT : My daddy told me not to date a man with soft hands lol... Either he doesn\\'t do hard labor or he\\'s a \"faggot\".',\n",
       " 'RT : Great job by the Yankees giving Brian Cashman a new contract. The haters are just wrong. CC: ',\n",
       " \"It's official. I leave America January 3rd. See ya bitches in February. \\n\\nHave fun with winter for me.\",\n",
       " '\"Get your ass back to Detroit ya fuckin\\' wigger\"',\n",
       " 'Feb 18 was a record setting day for the word faggot, apparently: http://t.co/rO9E1KUokg',\n",
       " \"Boy you gotta turn that Nikki song all the way down on the volume kuz it's trash ... But that the ass fat lawd&#128525;&#128525;&#128525;&#128588;&#128588;&#128588;\",\n",
       " '\"Two roads diverged in a yellow wood, and I chose the one to J&#246;tunheimr\"\\n- Robert Frost Giant',\n",
       " 'RT  You prolly ate ur dad...he hates you : Ok dad RT  These bitches is really my sons tho Lmaoooooo\"',\n",
       " \"Been Huntin hard and finally nailed her. Best wedding koozie I've ever seen. #redneck http://t.co/D6SBSYaNN2\",\n",
       " \"I do da flow in a temple today fo nuttin. And dat Jew wit the funky hair tell me I subhuman. He tell me I ain't no mo human den a monkey\",\n",
       " 'RT : Ya lil dumb ass bitch ian fwy',\n",
       " '&#8220;: U look like a cotton picker tho \\n\\nRT : About to put in field work &#127944;&#8221; damn dee got all the jokes',\n",
       " 'Gov. Rick Scott Kicks Charlie Crist&#8217;s Ass http://t.co/YasZ6yXfwc http://t.co/RDmCnzyGbE',\n",
       " 'And dis shit is for the birds 2 http://t.co/o1pKDhYAX9',\n",
       " 'Bullets through a nigguh tru jeans',\n",
       " ' gotta love Tanner Country, hoes &amp; all,haha',\n",
       " 'Tired of these hoes breathing my air.',\n",
       " 'Rambo bout to flex on these hoes',\n",
       " ' ..its all about you and white conservative teabaggers. You all make the world go round. Please be our rulers.....stockboy',\n",
       " 'Nicholas Rushlow, wearing lucky yellow shirt, nails \"theophylline\" - \"bitter crystalline compound extracted from tea leaves\" #spellingbee',\n",
       " 'Embrace it. Love it. Flip this group of mine runoff water colored turds off and make a pick.',\n",
       " ' &amp; 4th my guinea pig will haunt you',\n",
       " 'Boy Yung thug is a fag',\n",
       " '1 good girl is worth 1000 hoes',\n",
       " 'Still wit the Same bitches to the death of me&#128553;',\n",
       " 'Slap a hoe with a rusty axe ash my blunts on her ass',\n",
       " 'Sydney on this hoe asking dumb ass questions',\n",
       " \" you better feel the love... I don't even show these hoes love lol\",\n",
       " 'We are back bitches       ',\n",
       " ' bring it bitch.',\n",
       " '  bitch wea ur clothes',\n",
       " 'RT : Bitches about to start that \"New year, New me\" bullshit.. You can\\'t undo the numbers on that pussy thoo',\n",
       " \"And I'm out bout $50 .. These hoes be pimping me man &#128514;\",\n",
       " ' \"bitches ain\\'t shit but hoes with tricks\"',\n",
       " 'Real love hard to find when these bitches try to fake it with me',\n",
       " ' bitch merry Christmas',\n",
       " '  he has one called \"pussy pop\" I think it\\'s for cats',\n",
       " ' LOL, AutoCorrect is a bitch, but voice recognition is much faster than typing.',\n",
       " 'Welcome to our land of dispossession http://t.co/v14jkTLZ Check out the evil, racist whitey sitting on steps etc. \"Reconquista, Woo Hoo',\n",
       " 'Almost everyone I met in #Paris was absolute trash. And if they support a republican government, I hope they fucking die.',\n",
       " 'RT : Niggas gossip like bitches.. but yet they be the \"realest niggas\" tho? I don\\'t understand..',\n",
       " 'RT : \": I need their workout plan &#128525;&#128553; http://t.co/XMnIm9YIVN\" third bitch had a fucking miracle',\n",
       " 'RT :   Joshua is a faggot. Just suspend him on those grounds',\n",
       " \" its pretty easy actually. I'm just the cashier. Right now I'm eating those animal crackers lolol :)\",\n",
       " 'RT : bitches will argue with you for 30 mins and then be like \"you know what, i aint gonna argue with you\"\\n\\nbitch what???',\n",
       " \" I'll ask you same question Do you support border jumpers Do you support illegals\",\n",
       " ' eat yo pickles bitches',\n",
       " 'RT : Keep ur bitch on a leash .',\n",
       " 'Wow, Charlie Strong is cleaning house. Might be upwards of 10 released before he is done. ',\n",
       " ' Yeah Me too. My people, the women, laff at the set apart men... they love the real niggas or niggers.',\n",
       " 'Teacher: \"WHY AM I HEARING TALKING?\" ... Because you have ears bitch.',\n",
       " \"That nig Darion couldn't help but act like the camera was on him... He didn't keep any composure eattin those crawfish hahaha\",\n",
       " \" now I'm chewy high with a hard ass dick. Ooh there goes my pager could it be a trick bitch?\",\n",
       " \"  is a little bitch , that's why\",\n",
       " '90% of niggas goofy and act like bitches',\n",
       " ' make that llama your bitch',\n",
       " 'My sister told me that I look like a bird. While my past told me that I look like an alien.',\n",
       " \". Al Qaeda's market share is dropping faster than Viacom &amp; Enron in the Jihadi stock market\",\n",
       " 'RT : when your bro ask for a turn when you about to get some pussy https://t.co/G5YJyjeOEm',\n",
       " 'Nick Cannon movie.. &#171; A 31 year old bitch in Texas was pretending to be 15 and went to high school 6 months&#187;',\n",
       " 'RT : does being on my dick make any of yall hoes feel relevant ? if so , re evaluate your WHOLE life .. thanks',\n",
       " 'My clothes are always retro, sexual like im hetro, and I play a bitch like nintendo, takee her for a ride in my benzo.\\n\\n-',\n",
       " 'RT : \":  yu ah hoe\"lmfao,',\n",
       " 'The ugliest bitches swear they bad.. But &#128564;',\n",
       " '\"Your a queer\". &#128530;&#128530;&#128530;&#128530;',\n",
       " \"RT : Thanks Ravens 4 beating those fags. Now believe I don't give a fuck about you. I'm Raider Nation bitches. Thanks 4 pu ...\",\n",
       " 'You and that BBW shit can get TF off this planet. Take these stud hoes with you too.',\n",
       " \"'Eff it, let's go after the cripple&#8217;: You have to see Wendy Davis' new attack ad [video] http://t.co/WapBCHhuru\",\n",
       " 'RT : Pepsi cola RT : Ladies what does your pussy taste like?',\n",
       " \"RT : #Directioners, 1D's  &amp;  monkey around on set of #StealMyGirl video: http://t.co/sOEbNlR8Re http://t.co&#8230;\",\n",
       " \"'Views from the 6' gon be Instagram picture titles for a while...brace yaself my nigs\",\n",
       " \"RT : RETWEET if you fucked someone's bitch\",\n",
       " \"I'm not the type of guy to bitch about how hot it is but it's about to be 11 and I'm still sweating\",\n",
       " 'Mother Nature hates the Yankees and baseball',\n",
       " ' yes so you could leave fag',\n",
       " \" Are you sure about that, slant? They're plagiarists, and you have no idea who I am.\",\n",
       " \"&#8220;: I'm tryna get some snow day dick &#128514;&#128514;&#128514;&#128514;&#8221;gon make a nicca have a wreck out there Tryn pull up on ya &#128514;&#128514;\",\n",
       " \"This just in: don't trust these hoes http://t.co/chyD7jrGxy\",\n",
       " '&#8220;:  knowing I can picture that hoe in my head&#8221; he good now knocked the wind out that boy &#128514;',\n",
       " 'This subway worker is being a major bitch to a soldier. come on show some respect',\n",
       " 'RT : Rihanna really is trash',\n",
       " 'Told da nicca str8 up to his face whateva he got goin on I Want In..Guess he felt some type of way bout it',\n",
       " \"You say it like they're a new toy, they're children you dumb bitch &#8220;: Mixed Babies,I want one &#128525;&#128525;&#128525;&#128525; http://t.co/7riWuwamLz&#8221;\",\n",
       " 'Unfortunately, I love her the most tho RT :  thats ur hoe too?',\n",
       " '&#8220;: for all the bad bitches out there http://t.co/ESXBexvKEs&#8221;Lets go have some fun&#128536;  &#128514;&#128514;&#128514;',\n",
       " 'RT : I swear these bitches think their still in highschool',\n",
       " \"Yo bitch all over me, I ain't make no commitment\",\n",
       " 'Bobby bitch&gt;Hot nigga',\n",
       " 'Hitting women is wrong morally but bitches get raped, kidknapped.beat up, an sold to be sex slaves, when they gonna end that?',\n",
       " ' yea he coming back him big rod doing something for that hoe',\n",
       " 'Baby girl your pussy looking so vacant....',\n",
       " 'I know these hoes',\n",
       " \" a young nigga turned into Mr. CATCHMEIFYOUCAN....I'm in da field my nig #WEDAOPPS #FUKEMWEBALL\",\n",
       " \"It doesn't just affect kids. It affects the faculty, the staff, that work at these schools that are queer.\",\n",
       " 'RT : Yung Berg trying to fuck all these hoes.',\n",
       " 'RT : \"Fuck all the skinny bitches\"  #NeverForget &#128557;&#128128; http://t.co/Ndhqmn3LvU',\n",
       " 'looking like a hillbilly and not matching is what I do best goodnight losers http://t.co/caGHBLKAXQ',\n",
       " '&#8220;: If u ask me, every bitch gay&#8221;or \"bi\"',\n",
       " '100 mile dead zone radius around Philly...gotta go to NY or DC RT  The tri state needs better bitches',\n",
       " 'RT : That\\'s how niggas get cheated on. She lie in ur face bc she in denial about her hoe actions. But she tell her homegirls \"it&#8230;',\n",
       " \"RT : Chicks wait til their hair is all broken down to go natural in their 30s, but bitch about the young Carter's fro from birth&#8230;\",\n",
       " 'Make sure that pussy clean \\nCuz ima eat until you scream',\n",
       " 'Its ya boi popsley da 83ar aka the real meek mills I was on this earth first pussy http://t.co/N8v2johm',\n",
       " 'RT : Lol I have an obsession with smell goods. Candles...plug ins....spray...the smelly good wax thingys...pussy....',\n",
       " 'RT : \"I said thin mints bitch\". http://t.co/yRVQjxeyqO',\n",
       " \"Ayo why da hell ain't nobody hip me to these niccas  ... #BetterLateThanNever\",\n",
       " ' u see a lame in that pic ofmine due to your infatuation with niggers. Im Hebrew i fite the children of satan in the streets',\n",
       " \"I'm glad Ari know to text me or get in contact with me cause I've been calling my bitch all day. I be worried.\",\n",
       " \" well I already got some lol but I'm bout to hop in the shower and eat something real quick then I'll be on my way nig\",\n",
       " ' tell that boy he a hoe i just called him',\n",
       " \"  she said, it's ok if u let ur man punch u in ur pussy as long as he makes u cum?\",\n",
       " 'You bitter bitches need a life..',\n",
       " ' sweet comeback u fuckin herb I dnt watch soccer but id still wax your bitch ass in it go swallow the red soxs kids ur from NYC fag',\n",
       " \"Can't have a bitch with no future or goals. I love kids but if you're not a parent first I can't deal with you\",\n",
       " '\": http://t.co/PrrskknqRv\" love frat boy w/ soft long soles',\n",
       " 'I need a bitch',\n",
       " '     \"I could have died\".. \"I called my mom a bitch\" lmao',\n",
       " 'escort missions in games are universally trash',\n",
       " 'Sixten just shoved like 8 Oreos down his throat',\n",
       " '  oh you mean like how you started to be a cunt to JP about something that has nothing to do with you?',\n",
       " 'Surrender of Divinity - Conquerors of the Apocalypse: http://t.co/9Qv5RsY1p3 via  &gt;Oriental Black Metal Hell',\n",
       " 'NFC South is trash juice',\n",
       " 'Idc about none of these bitches .',\n",
       " 'RT : i have absolutely no \"hoes\"',\n",
       " '&#8220;: every bitch tell me I act like a nigga.. whatever the fuck that means&#8221;',\n",
       " '4th and long bitches',\n",
       " 'RT : If you curve me im just going to assume your pussy is trash and you were doing me a favor',\n",
       " \"RT : Charlie Sheen will star in a new sitcom as an anger management therapist. So what's next? Casey Anthony as the owner of ...\",\n",
       " \"&#8220;: Shavonne was doing ballet in the middle of the street last night and fell &#128553;&#128553;&#128514;&#128514;&#128514;&#128514;&#128557;&#128557;&#128557;&#8221;&#128557;&#128557;&#128557; bitch it wasn't ballet\",\n",
       " \"RT : If you get offended by tweets you're a bitch\",\n",
       " '&#8220;: I need to find is both a damn job. &#8220;:  needs to find a bitch a job&#128553;&#128553;&#8221;&#8221;right',\n",
       " \" naw dude I wish, they're white trash\",\n",
       " 'RT : When Tyler the Creator said \"Rape a pregnant bitch and tell my friends I had a threesome\" http://t.co/ZkvwfK18d0',\n",
       " 'RT : 1? Smh &#128514; RT : &#8220;: Yoo &#128514;&#128514; http://t.co/4SqZ7Tvp4v&#8221;\\n\\nWhat a fuckin EGO bust. #pussy',\n",
       " \"RT : I'm that type of bitch to tell you I'm on my way knowing I just got in the shower\",\n",
       " 'Whoever jumps in on a 1on1 is a bitch.',\n",
       " \"Hit my car with another rock and I'll be all over your ass in no time bitch.\",\n",
       " 'RT :  bro you just made me want that ho even more , what year?',\n",
       " 'Errrnigga tryna fuck the next nigga bitch not knowin his bitch is the next nigga bitch',\n",
       " '. really does talk like a buck nigger',\n",
       " ' fuck you faggot',\n",
       " '#porn,#android,#iphone,#ipad,#sex,#xxx, | #HandJob | Hand job and cum on rubber pussy http://t.co/zGcnmR2kLA',\n",
       " 'RT : We all know dumb bitches like this http://t.co/dq9yKQFV',\n",
       " 'animal crackers are the fuckin bomb, yo',\n",
       " 'MoNique made a whole fucking career offa call slim girls \"Skinny bitches\". She lost the weight (BECAUSE IT WAS UNHEALTHY) and now she\\'s done',\n",
       " \"he's making fun of me cause I'm worried about the bird and he saying he's not surprised because I don't like splitting poles lol ugh jerk\",\n",
       " 'Roman Catholics in the US are trash. They give Catholics in Europe a bad name.',\n",
       " 'She&#8217;s The key to world peace. RT : Hippo is such a pussy magnet\\nGawd',\n",
       " \"I'm stuck in my room.. The house is shifting or whatever and it used to be just kind of a bitch to open my door but now it's like.. Stuck.\",\n",
       " ' u want me to make u one of my ghetto nunchucks, they come in singles and double_ended',\n",
       " 'RT : Thick red bones in style or nah? &#127817; http://t.co/Cfhis3L8bT',\n",
       " ' bitch my phones gonna die in serious I got hot pockets',\n",
       " ' hoe stfu',\n",
       " 'I heard bitches commit sins for Chipotle',\n",
       " 'Even gtta AK sittn at my bitch house',\n",
       " \"RT : I don't have no girlfriend/side bitches/ main chick/ hoes. I just got a ex I want back .\",\n",
       " 'I really just want to kill some towel head terrorists already &#128530; can high school be over now please?',\n",
       " 'RT : I smashed her an dat pussy was wet &#128591;',\n",
       " \"Bitch you're the ugliest cunt ever.\",\n",
       " '\"don\\'t let your side bitch settle in, I might have to headbutt you Evelyn\"',\n",
       " \" I'm guessing so. The players are talking trash.\",\n",
       " '(U-turns on yellow) &#161;NO ACEPTAR ESTE LUZ ROJO (&#9835; Lights taking too long make me bilingual &#9835;)',\n",
       " \"   an just don't be a hoe about it Haha\",\n",
       " 'RT : Why do the trashiest, really ghetto girls always get the most likes and comments on insta? Boys up and down their pictures a&#8230;',\n",
       " '&#8220;:  fb hoe lol&#8221;damn next time be nicer . Lmfao',\n",
       " 'I uploaded a  video http://t.co/8rLE3JNr GOProud Makes Money Out of Twinkie Crisis in Free Market Spirit',\n",
       " 'If you think that the term #redskins being offensive is a political issue, you are ignorant.',\n",
       " 'RT : kill whitey',\n",
       " '\"If you love her then hide yo bitch so you\\'ll keep shorty.\"\\n',\n",
       " ' Fuck the Yankees',\n",
       " 'RT : Sorry that I came into your pussy like a wrecking ball.',\n",
       " 'I hate ghetto bitches with a passion..',\n",
       " 'RT : I Still Be Craving An Oreo McFlurry b;',\n",
       " \"sometimes I'm just like wow this bitch had the audacity to talk shit .... look at you and your life then look at me and mine &#128514;&#128514;\",\n",
       " \"I don't have a wife she my bitch for the night. If she was catching bodies then it might be alright\",\n",
       " '&#8220;:  i aint gone lie &amp; old heads say they see it in me so i figured&#8221; nah you just retarded',\n",
       " \"Just seen a dude wearing all black and white outfit with Pyrex shorts. She's getting some pussy tonight.\",\n",
       " \"RT : A lot of y'all hoes pretty until a nigga enlarge that avi...\",\n",
       " 'RT : &#8220;: These bitches marrying niggas who got life sentences in jail &#128530;&#128530;&#128530;&#8221; stupid',\n",
       " 'This bitch tweeted \"Brb Gonna Take A Shower\" 2minutes later \"Back\" ...GET YO NASTY ASS BACK IN THAT SHOWER',\n",
       " '&#8220;: Dr gero made android 18 to destroy da world das sum bitch nigga shit I would program a girl android to gimme sum neck 24/7&#8221;',\n",
       " 'Best rider? That goes to a blaxican.',\n",
       " 'Leave a nicca traumatized',\n",
       " 'RT : Joe changed her life and went back to his old bitch&#128514;&#128514; &#8220;:  ha.. she got them bitches worked o&#8230;',\n",
       " 'RT : Girls \"go talk to your other hoes\" game too strong',\n",
       " ' how are you Argie?',\n",
       " '&#128514;&#128514;&#128514;RT : cheap hair.. cheap dresses.. cheap shoes.. tacky ass little bitches',\n",
       " \"Who's baby is dat who's da man dat did dat 2 u Gator's bitches best be using jimmys\",\n",
       " ' Go pray in a church or something fag, no one cares about your religious bullshit.',\n",
       " 'RT : Happy birthday freshman faggots  ',\n",
       " 'Thats bad when your bestfriend says yu act like a hoe Cx',\n",
       " 'I hate when bitches try to talk shit with chipped nails',\n",
       " 'RT : Obama is Allowing millions of illegal aliens, drug cartels, and terrorists to enter our open borders...Liberal retards&#8230;',\n",
       " \"I Fucken can't stand little cunts that write a damn Essay on how the feel about something on Facebook. #gross\",\n",
       " \"#realtalk if you a hoe an try to get serious with someone don't expect to be anything more then a piece of meat to them\",\n",
       " 'Pic so confusing.. Looks like a dyke, but has a hoe pooci.. &#171; &#8220;: &#128553;&#128553;&#128553;&#128553;&#128553; http://t.co/88ThE7EZP7&#8221;&#187;',\n",
       " '#Yankees Primo Just got home and the Tanks are on MLB. Finally And they are winning Even better. Time to get serious, Sept call up time',\n",
       " 'Girls be like \"10/23/12 I love you babe &lt;3\" hoe isn\\'t that today?',\n",
       " 'Posted a new song: \"\"guala\"\" http://t.co/TbpOuto6zR http://t.co/y1RpItkIAf',\n",
       " 'This my dog telling me he is done playing frisbee for now.. lazy mutt http://t.co/l4AocjczsH',\n",
       " \"Every time my mom calls me it's to bitch at me about something lol\",\n",
       " 'I got no respect for hoe shit',\n",
       " ' Yeah them hoes straight ima grab that light blue pair',\n",
       " \"' Ok my Texas bitch keep textin me , callin cryin stressin me , askin me about where I been but I been with another bitch allegedly &#1043359; .\",\n",
       " '&#8220;: I hate when I attempt to make the yellow light but the car infront of me stops at the light &#128545;&#128545;&#128545;&#8221;&#8252;&#65039; I be wanting to fight&#128514;',\n",
       " 'I hate how girls bitch about \\n\\nE V E R Y T H I N G',\n",
       " 'Why is my phone being a fucking bitch',\n",
       " '&#8220;: hoes do hoe thangs&#8221;',\n",
       " ' i know im so kidding. Some of BET is funny. I love when blacks call eachother ignorant and niggers. Makes me not have to',\n",
       " \"I guess that OH was a bitch I don't Ha\",\n",
       " '#porn,#android,#iphone,#ipad,#sex,#xxx, | #Anal | Blonde tranny ass fucked http://t.co/80aRX0QJxz',\n",
       " \"I don't love my hoes I love a couple not all &#128514;&#128514;\",\n",
       " 'Red Sox fans bitch the loudest about right field. Their hitters exempt from hitting them out too? #Yankees #YankeeStadium',\n",
       " '&#128518;\": On a leash &#128555;RT : Just pussy &#128553;\"',\n",
       " \"I got 99 problems but a bitch ain't one\",\n",
       " 'Dawg RT : Man this about to be another trash Thursday night game',\n",
       " 'RT : &#128514; &#128514;RT : How you gone wife a bitch that let niggas lick on her head in public?',\n",
       " \" Really?? Bro, that retard  even missed the point of GreenEggs&amp;Ham It means don't knock it til ya try it\",\n",
       " 'Only Americans would hire white trash with ties to international terrorism as police officers.',\n",
       " 'Bitch killa gone be dacing in that bitch cdfu',\n",
       " 'Haha, Yankees fans are bent out of shape about the Hu27le graphic',\n",
       " 'People who play #fantasygames are white trash',\n",
       " ' Calm down you little Asian lol just go flip a bitch',\n",
       " 'RT : You got niggas &amp; i got bitches',\n",
       " ' its time. amend 14th amendment it was written to protect newly freed ex slaves. Its lived its purpose. time to end anchor baby loophole',\n",
       " '  you a bitch Dennis',\n",
       " 'Someone came up &amp; told me that I pulled hoes today. I was pissed just because thats so fucking false that its sad.',\n",
       " 'remember going out to actually freak a bitch? yeah that vibe is back.',\n",
       " 'RT : 11:11. I wish you would stop being a hoe.',\n",
       " \"RT : CHILL RT : Tweet you don't like bitches wit short hair ya mentions gon be full of this http://t.co/HaK&#8230;\",\n",
       " \"Sinai Jihadi Group Beheads 3 Accused of Being 'Spies of the Jews' http://t.co/3CDOsElI1k via \",\n",
       " 'Nah just yo hoe she just swung matter fact RT :  yu get hoes?? &#128551;',\n",
       " 'RT : Media Matters executive behind #StopRush campaign blogged about &#8216;trannies,&#8217; &#8216;homos&#8217; http://t.co/mje5KVl7rf http://t.co/&#8230;',\n",
       " 'Give a hipster bitch a yellow stick now she suckin dick in the hood and shit -Othot',\n",
       " \"RT : Life's a bitch, but that's the only love I know\",\n",
       " 'I hate Hashtag activism. No lie. I think 95% of it is trash.',\n",
       " 'NEVERMIND I FOUND THEM. ...in the trash...',\n",
       " ' i dont think he did the celestial dragon killed him',\n",
       " ' you a fucking wigger so stfu',\n",
       " 'Reaper drones pinpoint Jihadi John http://t.co/IBScZeLxXe via ',\n",
       " 'This old bitch with floppy tits riding on the elevator with me is nerping so bad',\n",
       " 'I get so deep in that pussy i touch the back of her soul',\n",
       " \"RT : It amazes me how simple it is for girls to be insane bitches when it'd be just as easy for them to be normal &amp; sane. Ge&#8230;\",\n",
       " ' did I mention you are an ugly cunt? Go back to Iran.',\n",
       " 'RT : Today I told a woman that she was the quintessential embodiment of sexual femininity. How am I not drowning in pussy?',\n",
       " 'Son why is our mail lady so ghetto &#128529;',\n",
       " 'Claim to be a boss but you a lil broke bitch &#128514;',\n",
       " \"Fuck Ya feelings ain't no sorries bitch\",\n",
       " ...]"
      ]
     },
     "execution_count": 25,
     "metadata": {},
     "output_type": "execute_result"
    }
   ],
   "source": [
    "# lets tokenize clean tweets\n",
    "Final_ds[\"train\"][\"clean_tweet\"]"
   ]
  },
  {
   "cell_type": "code",
   "execution_count": 26,
   "metadata": {},
   "outputs": [],
   "source": [
    "# function to tokenize our cleaned tweets\n",
    "def tokenize_text(ds):\n",
    "    return tokenizer(ds[\"clean_tweet\"],padding=\"max_length\",truncation=True)"
   ]
  },
  {
   "cell_type": "code",
   "execution_count": 27,
   "metadata": {},
   "outputs": [
    {
     "data": {
      "application/vnd.jupyter.widget-view+json": {
       "model_id": "9f43255bc2b04334851922997dd61d28",
       "version_major": 2,
       "version_minor": 0
      },
      "text/plain": [
       "Map:   0%|          | 0/15860 [00:00<?, ? examples/s]"
      ]
     },
     "metadata": {},
     "output_type": "display_data"
    },
    {
     "data": {
      "application/vnd.jupyter.widget-view+json": {
       "model_id": "9d4608e2a24b419a9bf744805311b999",
       "version_major": 2,
       "version_minor": 0
      },
      "text/plain": [
       "Map:   0%|          | 0/3966 [00:00<?, ? examples/s]"
      ]
     },
     "metadata": {},
     "output_type": "display_data"
    },
    {
     "data": {
      "application/vnd.jupyter.widget-view+json": {
       "model_id": "0e9cf20ea94d43279ae2f57be4d3d759",
       "version_major": 2,
       "version_minor": 0
      },
      "text/plain": [
       "Map:   0%|          | 0/4957 [00:00<?, ? examples/s]"
      ]
     },
     "metadata": {},
     "output_type": "display_data"
    }
   ],
   "source": [
    "# .map() processes each row of the dataset, applying tokenize_text to the clean_tweet column.\n",
    "tokenized_dataset=Final_ds.map(tokenize_text,batched=True) "
   ]
  },
  {
   "cell_type": "code",
   "execution_count": 28,
   "metadata": {},
   "outputs": [
    {
     "data": {
      "text/plain": [
       "DatasetDict({\n",
       "    train: Dataset({\n",
       "        features: ['class', 'tweet', 'clean_tweet', 'input_ids', 'token_type_ids', 'attention_mask'],\n",
       "        num_rows: 15860\n",
       "    })\n",
       "    validation: Dataset({\n",
       "        features: ['class', 'tweet', 'clean_tweet', 'input_ids', 'token_type_ids', 'attention_mask'],\n",
       "        num_rows: 3966\n",
       "    })\n",
       "    test: Dataset({\n",
       "        features: ['class', 'tweet', 'clean_tweet', 'input_ids', 'token_type_ids', 'attention_mask'],\n",
       "        num_rows: 4957\n",
       "    })\n",
       "})"
      ]
     },
     "execution_count": 28,
     "metadata": {},
     "output_type": "execute_result"
    }
   ],
   "source": [
    "tokenized_dataset\n",
    "# input_ids, token_type_ids, and attention_mask are automatically added as a result of tokenization."
   ]
  },
  {
   "cell_type": "code",
   "execution_count": 29,
   "metadata": {},
   "outputs": [
    {
     "data": {
      "text/plain": [
       "DatasetDict({\n",
       "    train: Dataset({\n",
       "        features: ['class', 'input_ids', 'token_type_ids', 'attention_mask'],\n",
       "        num_rows: 15860\n",
       "    })\n",
       "    validation: Dataset({\n",
       "        features: ['class', 'input_ids', 'token_type_ids', 'attention_mask'],\n",
       "        num_rows: 3966\n",
       "    })\n",
       "    test: Dataset({\n",
       "        features: ['class', 'input_ids', 'token_type_ids', 'attention_mask'],\n",
       "        num_rows: 4957\n",
       "    })\n",
       "})"
      ]
     },
     "execution_count": 29,
     "metadata": {},
     "output_type": "execute_result"
    }
   ],
   "source": [
    "# lets remove tweet columns as we have tokenizide\n",
    "final_ds=tokenized_dataset.remove_columns(['tweet', 'clean_tweet'])\n",
    "final_ds"
   ]
  },
  {
   "cell_type": "markdown",
   "metadata": {},
   "source": [
    "## Converting to Tensorflow Format"
   ]
  },
  {
   "cell_type": "code",
   "execution_count": 30,
   "metadata": {},
   "outputs": [],
   "source": [
    "train_dataset=final_ds[\"train\"].with_format(\"tensorflow\")\n",
    "test_dataset=final_ds[\"test\"].with_format(\"tensorflow\")\n",
    "validation_dataset=final_ds[\"validation\"].with_format(\"tensorflow\")"
   ]
  },
  {
   "cell_type": "code",
   "execution_count": 31,
   "metadata": {},
   "outputs": [],
   "source": [
    "# Extracting the model parameters\n",
    "train_features={x:train_dataset[x] for x in tokenizer.model_input_names}\n",
    "# Creating a TensorFlow Dataset\n",
    "train_set_for_final_model=tf.data.Dataset.from_tensor_slices((train_features,train_dataset[\"class\"]))\n",
    "\n",
    "# To shuffle and group them into batches of 8 for parralel training wit gpu\n",
    "# Why shuffle (may be to reduce bias)\n",
    "train_set_for_final_model=train_set_for_final_model.shuffle(len(train_dataset)).batch(8)\n",
    "\n",
    "test_features={x:test_dataset[x] for x in tokenizer.model_input_names}\n",
    "test_set_for_final_model=tf.data.Dataset.from_tensor_slices((test_features,test_dataset[\"class\"]))\n",
    "test_set_for_final_model=test_set_for_final_model.shuffle(len(test_dataset)).batch(8)\n",
    "\n",
    "\n",
    "valid_features={x:validation_dataset[x] for x in tokenizer.model_input_names}\n",
    "valid_set_for_final_model=tf.data.Dataset.from_tensor_slices((valid_features,validation_dataset[\"class\"]))\n",
    "valid_set_for_final_model=valid_set_for_final_model.shuffle(len(validation_dataset)).batch(8)\n"
   ]
  },
  {
   "cell_type": "markdown",
   "metadata": {},
   "source": [
    "## importing the model"
   ]
  },
  {
   "cell_type": "code",
   "execution_count": 32,
   "metadata": {},
   "outputs": [
    {
     "name": "stdout",
     "output_type": "stream",
     "text": [
      "WARNING:tensorflow:From c:\\Studies\\projects_bkr\\learn\\GEN AI Udemey\\bkr_venv\\Lib\\site-packages\\tf_keras\\src\\losses.py:2976: The name tf.losses.sparse_softmax_cross_entropy is deprecated. Please use tf.compat.v1.losses.sparse_softmax_cross_entropy instead.\n",
      "\n",
      "WARNING:tensorflow:From c:\\Studies\\projects_bkr\\learn\\GEN AI Udemey\\bkr_venv\\Lib\\site-packages\\tf_keras\\src\\backend.py:873: The name tf.get_default_graph is deprecated. Please use tf.compat.v1.get_default_graph instead.\n",
      "\n"
     ]
    },
    {
     "name": "stderr",
     "output_type": "stream",
     "text": [
      "All PyTorch model weights were used when initializing TFBertForSequenceClassification.\n",
      "\n",
      "Some weights or buffers of the TF 2.0 model TFBertForSequenceClassification were not initialized from the PyTorch model and are newly initialized: ['classifier.weight', 'classifier.bias']\n",
      "You should probably TRAIN this model on a down-stream task to be able to use it for predictions and inference.\n"
     ]
    }
   ],
   "source": [
    "Model=TFAutoModelForSequenceClassification.from_pretrained(\"bert-base-cased\",num_labels=3)\n"
   ]
  },
  {
   "cell_type": "markdown",
   "metadata": {},
   "source": [
    "## Training the model"
   ]
  },
  {
   "cell_type": "code",
   "execution_count": 33,
   "metadata": {},
   "outputs": [],
   "source": [
    "Model.compile(\n",
    "    optimizer=tf.keras.optimizers.Adam(learning_rate=5e-5),\n",
    "    loss=tf.keras.losses.SparseCategoricalCrossentropy(from_logits=True),\n",
    "    metrics=[tf.keras.metrics.SparseCategoricalAccuracy()]\n",
    ")\n"
   ]
  },
  {
   "cell_type": "code",
   "execution_count": 34,
   "metadata": {},
   "outputs": [
    {
     "name": "stdout",
     "output_type": "stream",
     "text": [
      "WARNING:tensorflow:From c:\\Studies\\projects_bkr\\learn\\GEN AI Udemey\\bkr_venv\\Lib\\site-packages\\tf_keras\\src\\utils\\tf_utils.py:492: The name tf.ragged.RaggedTensorValue is deprecated. Please use tf.compat.v1.ragged.RaggedTensorValue instead.\n",
      "\n",
      "1983/1983 [==============================] - 37940s 19s/step - loss: 0.3251 - sparse_categorical_accuracy: 0.8883 - val_loss: 0.2651 - val_sparse_categorical_accuracy: 0.9080\n"
     ]
    }
   ],
   "source": [
    "history= Model.fit(train_set_for_final_model,validation_data=valid_set_for_final_model,epochs=1)"
   ]
  },
  {
   "cell_type": "code",
   "execution_count": 35,
   "metadata": {},
   "outputs": [
    {
     "data": {
      "application/vnd.jupyter.widget-view+json": {
       "model_id": "8c873f41a50040029a12a2f152b1123d",
       "version_major": 2,
       "version_minor": 0
      },
      "text/plain": [
       "tf_model.h5:   0%|          | 0.00/434M [00:00<?, ?B/s]"
      ]
     },
     "metadata": {},
     "output_type": "display_data"
    }
   ],
   "source": [
    "# lets push the model to huggingfaec hub\n",
    "Model.push_to_hub(\"bkr969/bert-base-cased\")"
   ]
  },
  {
   "cell_type": "code",
   "execution_count": 36,
   "metadata": {},
   "outputs": [
    {
     "name": "stdout",
     "output_type": "stream",
     "text": [
      "496/496 [==============================] - 2482s 5s/step - loss: 0.2651 - sparse_categorical_accuracy: 0.9080\n"
     ]
    },
    {
     "data": {
      "text/plain": [
       "[0.26512259244918823, 0.907967746257782]"
      ]
     },
     "execution_count": 36,
     "metadata": {},
     "output_type": "execute_result"
    }
   ],
   "source": [
    "Model.evaluate(valid_set_for_final_model)"
   ]
  },
  {
   "cell_type": "markdown",
   "metadata": {},
   "source": [
    "**We achieved an accuracy of 90% for 1 epoch and the model can still learn the patterns**\n",
    "<br>**It took 8 hrs to train this model as my pc specs arent enough**"
   ]
  },
  {
   "cell_type": "markdown",
   "metadata": {},
   "source": [
    "## Predictions"
   ]
  },
  {
   "cell_type": "code",
   "execution_count": 37,
   "metadata": {},
   "outputs": [
    {
     "name": "stdout",
     "output_type": "stream",
     "text": [
      "620/620 [==============================] - 3022s 5s/step\n"
     ]
    }
   ],
   "source": [
    "# Use the model to predict on the test set\n",
    "predictions = Model.predict(test_set_for_final_model)"
   ]
  },
  {
   "cell_type": "code",
   "execution_count": 38,
   "metadata": {},
   "outputs": [
    {
     "data": {
      "text/plain": [
       "TFSequenceClassifierOutput(loss=None, logits=array([[-1.8962314 , -0.810161  ,  3.7613225 ],\n",
       "       [-1.0965023 ,  0.25253436,  1.3981711 ],\n",
       "       [-1.4583783 ,  2.2204225 , -2.0734959 ],\n",
       "       ...,\n",
       "       [ 0.37439683,  0.7384173 , -1.4028283 ],\n",
       "       [-1.5688442 ,  2.1044943 , -0.976694  ],\n",
       "       [-1.1383607 ,  2.6263325 , -2.848299  ]], dtype=float32), hidden_states=None, attentions=None)"
      ]
     },
     "execution_count": 38,
     "metadata": {},
     "output_type": "execute_result"
    }
   ],
   "source": [
    "predictions"
   ]
  },
  {
   "cell_type": "markdown",
   "metadata": {},
   "source": [
    "## Final result"
   ]
  },
  {
   "cell_type": "code",
   "execution_count": 42,
   "metadata": {},
   "outputs": [
    {
     "data": {
      "text/plain": [
       "'Offensive '"
      ]
     },
     "execution_count": 42,
     "metadata": {},
     "output_type": "execute_result"
    }
   ],
   "source": [
    "news_classifier={\n",
    "    0:\"Hate Speech\",\n",
    "    1:\"Offensive \",\n",
    "    2:\"None of the above\"\n",
    "}\n",
    "def classify_news(text):\n",
    "    inputs=tokenizer(text,padding=True,truncation=True,return_tensors=\"tf\")\n",
    "    output=Model(inputs)[\"logits\"]\n",
    "    \n",
    "    pred=np.argmax(output,axis=1)\n",
    "    \n",
    "    return news_classifier[pred[0]]\n",
    "\n",
    "classify_news(\"wassup asshole\")\n",
    "    \n",
    "\n",
    "    "
   ]
  },
  {
   "cell_type": "code",
   "execution_count": null,
   "metadata": {},
   "outputs": [],
   "source": []
  }
 ],
 "metadata": {
  "kernelspec": {
   "display_name": "bkr_venv",
   "language": "python",
   "name": "python3"
  },
  "language_info": {
   "codemirror_mode": {
    "name": "ipython",
    "version": 3
   },
   "file_extension": ".py",
   "mimetype": "text/x-python",
   "name": "python",
   "nbconvert_exporter": "python",
   "pygments_lexer": "ipython3",
   "version": "3.12.6"
  }
 },
 "nbformat": 4,
 "nbformat_minor": 2
}
